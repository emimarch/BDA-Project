{
 "cells": [
  {
   "cell_type": "code",
   "execution_count": 4,
   "id": "70d9e745",
   "metadata": {},
   "outputs": [],
   "source": [
    "import numpy as np\n",
    "import pandas as pd\n"
   ]
  },
  {
   "cell_type": "code",
   "execution_count": 3,
   "id": "1bfd45e3",
   "metadata": {},
   "outputs": [],
   "source": [
    "ebola_df = pd.read_csv('ebola_data_db_format.csv')\n",
    "pop_df = pd.read_csv('population_income_data.csv')"
   ]
  },
  {
   "cell_type": "code",
   "execution_count": 114,
   "id": "09a460a3",
   "metadata": {},
   "outputs": [
    {
     "data": {
      "text/html": [
       "<div>\n",
       "<style scoped>\n",
       "    .dataframe tbody tr th:only-of-type {\n",
       "        vertical-align: middle;\n",
       "    }\n",
       "\n",
       "    .dataframe tbody tr th {\n",
       "        vertical-align: top;\n",
       "    }\n",
       "\n",
       "    .dataframe thead th {\n",
       "        text-align: right;\n",
       "    }\n",
       "</style>\n",
       "<table border=\"1\" class=\"dataframe\">\n",
       "  <thead>\n",
       "    <tr style=\"text-align: right;\">\n",
       "      <th></th>\n",
       "      <th>Time</th>\n",
       "      <th>Time Code</th>\n",
       "      <th>Country Name</th>\n",
       "      <th>Country Code</th>\n",
       "      <th>Population density (people per sq. km of land area) [EN.POP.DNST]</th>\n",
       "      <th>Adjusted net national income per capita (constant 2015 US$) [NY.ADJ.NNTY.PC.KD]</th>\n",
       "      <th>GDP per capita (constant 2015 US$) [NY.GDP.PCAP.KD]</th>\n",
       "    </tr>\n",
       "  </thead>\n",
       "  <tbody>\n",
       "    <tr>\n",
       "      <th>0</th>\n",
       "      <td>2014</td>\n",
       "      <td>YR2014</td>\n",
       "      <td>Guinea</td>\n",
       "      <td>GIN</td>\n",
       "      <td>45.380799</td>\n",
       "      <td>595.85438972692</td>\n",
       "      <td>759.587862</td>\n",
       "    </tr>\n",
       "    <tr>\n",
       "      <th>1</th>\n",
       "      <td>2014</td>\n",
       "      <td>YR2014</td>\n",
       "      <td>Liberia</td>\n",
       "      <td>LBR</td>\n",
       "      <td>45.260673</td>\n",
       "      <td>..</td>\n",
       "      <td>740.375959</td>\n",
       "    </tr>\n",
       "    <tr>\n",
       "      <th>2</th>\n",
       "      <td>2014</td>\n",
       "      <td>YR2014</td>\n",
       "      <td>Italy</td>\n",
       "      <td>ITA</td>\n",
       "      <td>205.564558</td>\n",
       "      <td>24322.0796428298</td>\n",
       "      <td>29979.918722</td>\n",
       "    </tr>\n",
       "    <tr>\n",
       "      <th>3</th>\n",
       "      <td>2014</td>\n",
       "      <td>YR2014</td>\n",
       "      <td>United Kingdom</td>\n",
       "      <td>GBR</td>\n",
       "      <td>267.028884</td>\n",
       "      <td>36733.3838408965</td>\n",
       "      <td>44596.189750</td>\n",
       "    </tr>\n",
       "    <tr>\n",
       "      <th>4</th>\n",
       "      <td>2014</td>\n",
       "      <td>YR2014</td>\n",
       "      <td>United States</td>\n",
       "      <td>USA</td>\n",
       "      <td>34.806134</td>\n",
       "      <td>47670.0399498095</td>\n",
       "      <td>55675.386854</td>\n",
       "    </tr>\n",
       "  </tbody>\n",
       "</table>\n",
       "</div>"
      ],
      "text/plain": [
       "   Time Time Code    Country Name Country Code  \\\n",
       "0  2014    YR2014          Guinea          GIN   \n",
       "1  2014    YR2014         Liberia          LBR   \n",
       "2  2014    YR2014           Italy          ITA   \n",
       "3  2014    YR2014  United Kingdom          GBR   \n",
       "4  2014    YR2014   United States          USA   \n",
       "\n",
       "   Population density (people per sq. km of land area) [EN.POP.DNST]  \\\n",
       "0                                          45.380799                   \n",
       "1                                          45.260673                   \n",
       "2                                         205.564558                   \n",
       "3                                         267.028884                   \n",
       "4                                          34.806134                   \n",
       "\n",
       "  Adjusted net national income per capita (constant 2015 US$) [NY.ADJ.NNTY.PC.KD]  \\\n",
       "0                                    595.85438972692                                \n",
       "1                                                 ..                                \n",
       "2                                   24322.0796428298                                \n",
       "3                                   36733.3838408965                                \n",
       "4                                   47670.0399498095                                \n",
       "\n",
       "   GDP per capita (constant 2015 US$) [NY.GDP.PCAP.KD]  \n",
       "0                                         759.587862    \n",
       "1                                         740.375959    \n",
       "2                                       29979.918722    \n",
       "3                                       44596.189750    \n",
       "4                                       55675.386854    "
      ]
     },
     "execution_count": 114,
     "metadata": {},
     "output_type": "execute_result"
    }
   ],
   "source": [
    "pop_df.head()"
   ]
  },
  {
   "cell_type": "code",
   "execution_count": 115,
   "id": "88109e58",
   "metadata": {},
   "outputs": [
    {
     "data": {
      "text/plain": [
       "Guinea            3\n",
       "Liberia           3\n",
       "Italy             3\n",
       "United Kingdom    3\n",
       "United States     3\n",
       "Sierra Leone      3\n",
       "Nigeria           3\n",
       "Senegal           3\n",
       "Spain             3\n",
       "Mali              3\n",
       "Name: Country Name, dtype: int64"
      ]
     },
     "execution_count": 115,
     "metadata": {},
     "output_type": "execute_result"
    }
   ],
   "source": [
    "pop_df['Country Name'].value_counts()"
   ]
  },
  {
   "cell_type": "code",
   "execution_count": 116,
   "id": "cc8bae40",
   "metadata": {},
   "outputs": [
    {
     "data": {
      "text/html": [
       "<div>\n",
       "<style scoped>\n",
       "    .dataframe tbody tr th:only-of-type {\n",
       "        vertical-align: middle;\n",
       "    }\n",
       "\n",
       "    .dataframe tbody tr th {\n",
       "        vertical-align: top;\n",
       "    }\n",
       "\n",
       "    .dataframe thead th {\n",
       "        text-align: right;\n",
       "    }\n",
       "</style>\n",
       "<table border=\"1\" class=\"dataframe\">\n",
       "  <thead>\n",
       "    <tr style=\"text-align: right;\">\n",
       "      <th></th>\n",
       "      <th>Indicator</th>\n",
       "      <th>Country</th>\n",
       "      <th>Date</th>\n",
       "      <th>value</th>\n",
       "    </tr>\n",
       "  </thead>\n",
       "  <tbody>\n",
       "    <tr>\n",
       "      <th>0</th>\n",
       "      <td>Cumulative number of confirmed, probable and s...</td>\n",
       "      <td>Guinea</td>\n",
       "      <td>2015-03-10</td>\n",
       "      <td>3285.0</td>\n",
       "    </tr>\n",
       "    <tr>\n",
       "      <th>1</th>\n",
       "      <td>Cumulative number of confirmed Ebola cases</td>\n",
       "      <td>Guinea</td>\n",
       "      <td>2015-03-10</td>\n",
       "      <td>2871.0</td>\n",
       "    </tr>\n",
       "    <tr>\n",
       "      <th>2</th>\n",
       "      <td>Cumulative number of probable Ebola cases</td>\n",
       "      <td>Guinea</td>\n",
       "      <td>2015-03-10</td>\n",
       "      <td>392.0</td>\n",
       "    </tr>\n",
       "    <tr>\n",
       "      <th>3</th>\n",
       "      <td>Cumulative number of suspected Ebola cases</td>\n",
       "      <td>Guinea</td>\n",
       "      <td>2015-03-10</td>\n",
       "      <td>22.0</td>\n",
       "    </tr>\n",
       "    <tr>\n",
       "      <th>4</th>\n",
       "      <td>Cumulative number of confirmed, probable and s...</td>\n",
       "      <td>Guinea</td>\n",
       "      <td>2015-03-10</td>\n",
       "      <td>2170.0</td>\n",
       "    </tr>\n",
       "  </tbody>\n",
       "</table>\n",
       "</div>"
      ],
      "text/plain": [
       "                                           Indicator Country        Date  \\\n",
       "0  Cumulative number of confirmed, probable and s...  Guinea  2015-03-10   \n",
       "1         Cumulative number of confirmed Ebola cases  Guinea  2015-03-10   \n",
       "2          Cumulative number of probable Ebola cases  Guinea  2015-03-10   \n",
       "3         Cumulative number of suspected Ebola cases  Guinea  2015-03-10   \n",
       "4  Cumulative number of confirmed, probable and s...  Guinea  2015-03-10   \n",
       "\n",
       "    value  \n",
       "0  3285.0  \n",
       "1  2871.0  \n",
       "2   392.0  \n",
       "3    22.0  \n",
       "4  2170.0  "
      ]
     },
     "execution_count": 116,
     "metadata": {},
     "output_type": "execute_result"
    }
   ],
   "source": [
    "ebola_df.head()"
   ]
  },
  {
   "cell_type": "code",
   "execution_count": 117,
   "id": "2cfa41d3",
   "metadata": {},
   "outputs": [
    {
     "data": {
      "text/plain": [
       "Sierra Leone                2303\n",
       "Nigeria                     2124\n",
       "Guinea                      2086\n",
       "Senegal                     2081\n",
       "United States of America    1932\n",
       "Spain                       1924\n",
       "Liberia                     1540\n",
       "Mali                        1234\n",
       "United Kingdom              1107\n",
       "Italy                        708\n",
       "Liberia 2                    536\n",
       "Guinea 2                      10\n",
       "Name: Country, dtype: int64"
      ]
     },
     "execution_count": 117,
     "metadata": {},
     "output_type": "execute_result"
    }
   ],
   "source": [
    "ebola_df.Country.value_counts()"
   ]
  },
  {
   "cell_type": "code",
   "execution_count": 118,
   "id": "1215df23",
   "metadata": {},
   "outputs": [],
   "source": [
    "ebola_df = ebola_df[~ebola_df['Country'].isin(['Liberia 2', 'Guinea 2'])]"
   ]
  },
  {
   "cell_type": "code",
   "execution_count": 119,
   "id": "f0837094",
   "metadata": {},
   "outputs": [],
   "source": [
    "ebola_df = ebola_df[ebola_df['Indicator']=='Cumulative number of confirmed, probable and suspected Ebola cases']"
   ]
  },
  {
   "cell_type": "code",
   "execution_count": 120,
   "id": "7b5f39e3",
   "metadata": {},
   "outputs": [],
   "source": [
    "ebola_df['Country'] = ebola_df['Country'].replace(['United States of America'], 'United States')"
   ]
  },
  {
   "cell_type": "code",
   "execution_count": 121,
   "id": "f8919489",
   "metadata": {},
   "outputs": [
    {
     "data": {
      "text/plain": [
       "Guinea            259\n",
       "Liberia           259\n",
       "Sierra Leone      259\n",
       "Nigeria           255\n",
       "Senegal           254\n",
       "United States     245\n",
       "Spain             243\n",
       "Mali              239\n",
       "United Kingdom    217\n",
       "Italy             141\n",
       "Name: Country, dtype: int64"
      ]
     },
     "execution_count": 121,
     "metadata": {},
     "output_type": "execute_result"
    }
   ],
   "source": [
    "ebola_df.Country.value_counts()"
   ]
  },
  {
   "cell_type": "code",
   "execution_count": 122,
   "id": "7f16ad86",
   "metadata": {},
   "outputs": [
    {
     "name": "stdout",
     "output_type": "stream",
     "text": [
      "<class 'pandas.core.frame.DataFrame'>\n",
      "Int64Index: 2371 entries, 0 to 17568\n",
      "Data columns (total 4 columns):\n",
      " #   Column     Non-Null Count  Dtype  \n",
      "---  ------     --------------  -----  \n",
      " 0   Indicator  2371 non-null   object \n",
      " 1   Country    2371 non-null   object \n",
      " 2   Date       2371 non-null   object \n",
      " 3   value      2371 non-null   float64\n",
      "dtypes: float64(1), object(3)\n",
      "memory usage: 92.6+ KB\n"
     ]
    }
   ],
   "source": [
    "ebola_df.info()"
   ]
  },
  {
   "cell_type": "code",
   "execution_count": 123,
   "id": "bbe921fb",
   "metadata": {},
   "outputs": [],
   "source": [
    "ebola_df = ebola_df.drop(columns= ['Indicator'])"
   ]
  },
  {
   "cell_type": "code",
   "execution_count": 124,
   "id": "c96abb76",
   "metadata": {},
   "outputs": [],
   "source": [
    "ebola_df = ebola_df.rename(columns = {'value': 'Cases'})"
   ]
  },
  {
   "cell_type": "code",
   "execution_count": 125,
   "id": "c10ddc68",
   "metadata": {},
   "outputs": [],
   "source": [
    "dates = ebola_df.Date.unique()\n",
    "countries = ebola_df.Country.unique()"
   ]
  },
  {
   "cell_type": "code",
   "execution_count": 126,
   "id": "a8bb5f94",
   "metadata": {},
   "outputs": [
    {
     "name": "stderr",
     "output_type": "stream",
     "text": [
      "/tmp/ipykernel_441022/490121321.py:5: FutureWarning: The frame.append method is deprecated and will be removed from pandas in a future version. Use pandas.concat instead.\n",
      "  ebola_df = ebola_df.append(new_row, ignore_index = True)\n",
      "/tmp/ipykernel_441022/490121321.py:5: FutureWarning: The frame.append method is deprecated and will be removed from pandas in a future version. Use pandas.concat instead.\n",
      "  ebola_df = ebola_df.append(new_row, ignore_index = True)\n",
      "/tmp/ipykernel_441022/490121321.py:5: FutureWarning: The frame.append method is deprecated and will be removed from pandas in a future version. Use pandas.concat instead.\n",
      "  ebola_df = ebola_df.append(new_row, ignore_index = True)\n",
      "/tmp/ipykernel_441022/490121321.py:5: FutureWarning: The frame.append method is deprecated and will be removed from pandas in a future version. Use pandas.concat instead.\n",
      "  ebola_df = ebola_df.append(new_row, ignore_index = True)\n",
      "/tmp/ipykernel_441022/490121321.py:5: FutureWarning: The frame.append method is deprecated and will be removed from pandas in a future version. Use pandas.concat instead.\n",
      "  ebola_df = ebola_df.append(new_row, ignore_index = True)\n",
      "/tmp/ipykernel_441022/490121321.py:5: FutureWarning: The frame.append method is deprecated and will be removed from pandas in a future version. Use pandas.concat instead.\n",
      "  ebola_df = ebola_df.append(new_row, ignore_index = True)\n",
      "/tmp/ipykernel_441022/490121321.py:5: FutureWarning: The frame.append method is deprecated and will be removed from pandas in a future version. Use pandas.concat instead.\n",
      "  ebola_df = ebola_df.append(new_row, ignore_index = True)\n",
      "/tmp/ipykernel_441022/490121321.py:5: FutureWarning: The frame.append method is deprecated and will be removed from pandas in a future version. Use pandas.concat instead.\n",
      "  ebola_df = ebola_df.append(new_row, ignore_index = True)\n",
      "/tmp/ipykernel_441022/490121321.py:5: FutureWarning: The frame.append method is deprecated and will be removed from pandas in a future version. Use pandas.concat instead.\n",
      "  ebola_df = ebola_df.append(new_row, ignore_index = True)\n",
      "/tmp/ipykernel_441022/490121321.py:5: FutureWarning: The frame.append method is deprecated and will be removed from pandas in a future version. Use pandas.concat instead.\n",
      "  ebola_df = ebola_df.append(new_row, ignore_index = True)\n",
      "/tmp/ipykernel_441022/490121321.py:5: FutureWarning: The frame.append method is deprecated and will be removed from pandas in a future version. Use pandas.concat instead.\n",
      "  ebola_df = ebola_df.append(new_row, ignore_index = True)\n",
      "/tmp/ipykernel_441022/490121321.py:5: FutureWarning: The frame.append method is deprecated and will be removed from pandas in a future version. Use pandas.concat instead.\n",
      "  ebola_df = ebola_df.append(new_row, ignore_index = True)\n",
      "/tmp/ipykernel_441022/490121321.py:5: FutureWarning: The frame.append method is deprecated and will be removed from pandas in a future version. Use pandas.concat instead.\n",
      "  ebola_df = ebola_df.append(new_row, ignore_index = True)\n",
      "/tmp/ipykernel_441022/490121321.py:5: FutureWarning: The frame.append method is deprecated and will be removed from pandas in a future version. Use pandas.concat instead.\n",
      "  ebola_df = ebola_df.append(new_row, ignore_index = True)\n",
      "/tmp/ipykernel_441022/490121321.py:5: FutureWarning: The frame.append method is deprecated and will be removed from pandas in a future version. Use pandas.concat instead.\n",
      "  ebola_df = ebola_df.append(new_row, ignore_index = True)\n",
      "/tmp/ipykernel_441022/490121321.py:5: FutureWarning: The frame.append method is deprecated and will be removed from pandas in a future version. Use pandas.concat instead.\n",
      "  ebola_df = ebola_df.append(new_row, ignore_index = True)\n",
      "/tmp/ipykernel_441022/490121321.py:5: FutureWarning: The frame.append method is deprecated and will be removed from pandas in a future version. Use pandas.concat instead.\n",
      "  ebola_df = ebola_df.append(new_row, ignore_index = True)\n",
      "/tmp/ipykernel_441022/490121321.py:5: FutureWarning: The frame.append method is deprecated and will be removed from pandas in a future version. Use pandas.concat instead.\n",
      "  ebola_df = ebola_df.append(new_row, ignore_index = True)\n",
      "/tmp/ipykernel_441022/490121321.py:5: FutureWarning: The frame.append method is deprecated and will be removed from pandas in a future version. Use pandas.concat instead.\n",
      "  ebola_df = ebola_df.append(new_row, ignore_index = True)\n",
      "/tmp/ipykernel_441022/490121321.py:5: FutureWarning: The frame.append method is deprecated and will be removed from pandas in a future version. Use pandas.concat instead.\n",
      "  ebola_df = ebola_df.append(new_row, ignore_index = True)\n",
      "/tmp/ipykernel_441022/490121321.py:5: FutureWarning: The frame.append method is deprecated and will be removed from pandas in a future version. Use pandas.concat instead.\n",
      "  ebola_df = ebola_df.append(new_row, ignore_index = True)\n",
      "/tmp/ipykernel_441022/490121321.py:5: FutureWarning: The frame.append method is deprecated and will be removed from pandas in a future version. Use pandas.concat instead.\n",
      "  ebola_df = ebola_df.append(new_row, ignore_index = True)\n",
      "/tmp/ipykernel_441022/490121321.py:5: FutureWarning: The frame.append method is deprecated and will be removed from pandas in a future version. Use pandas.concat instead.\n",
      "  ebola_df = ebola_df.append(new_row, ignore_index = True)\n",
      "/tmp/ipykernel_441022/490121321.py:5: FutureWarning: The frame.append method is deprecated and will be removed from pandas in a future version. Use pandas.concat instead.\n",
      "  ebola_df = ebola_df.append(new_row, ignore_index = True)\n",
      "/tmp/ipykernel_441022/490121321.py:5: FutureWarning: The frame.append method is deprecated and will be removed from pandas in a future version. Use pandas.concat instead.\n",
      "  ebola_df = ebola_df.append(new_row, ignore_index = True)\n",
      "/tmp/ipykernel_441022/490121321.py:5: FutureWarning: The frame.append method is deprecated and will be removed from pandas in a future version. Use pandas.concat instead.\n",
      "  ebola_df = ebola_df.append(new_row, ignore_index = True)\n",
      "/tmp/ipykernel_441022/490121321.py:5: FutureWarning: The frame.append method is deprecated and will be removed from pandas in a future version. Use pandas.concat instead.\n",
      "  ebola_df = ebola_df.append(new_row, ignore_index = True)\n",
      "/tmp/ipykernel_441022/490121321.py:5: FutureWarning: The frame.append method is deprecated and will be removed from pandas in a future version. Use pandas.concat instead.\n",
      "  ebola_df = ebola_df.append(new_row, ignore_index = True)\n",
      "/tmp/ipykernel_441022/490121321.py:5: FutureWarning: The frame.append method is deprecated and will be removed from pandas in a future version. Use pandas.concat instead.\n",
      "  ebola_df = ebola_df.append(new_row, ignore_index = True)\n",
      "/tmp/ipykernel_441022/490121321.py:5: FutureWarning: The frame.append method is deprecated and will be removed from pandas in a future version. Use pandas.concat instead.\n",
      "  ebola_df = ebola_df.append(new_row, ignore_index = True)\n",
      "/tmp/ipykernel_441022/490121321.py:5: FutureWarning: The frame.append method is deprecated and will be removed from pandas in a future version. Use pandas.concat instead.\n",
      "  ebola_df = ebola_df.append(new_row, ignore_index = True)\n",
      "/tmp/ipykernel_441022/490121321.py:5: FutureWarning: The frame.append method is deprecated and will be removed from pandas in a future version. Use pandas.concat instead.\n",
      "  ebola_df = ebola_df.append(new_row, ignore_index = True)\n",
      "/tmp/ipykernel_441022/490121321.py:5: FutureWarning: The frame.append method is deprecated and will be removed from pandas in a future version. Use pandas.concat instead.\n",
      "  ebola_df = ebola_df.append(new_row, ignore_index = True)\n",
      "/tmp/ipykernel_441022/490121321.py:5: FutureWarning: The frame.append method is deprecated and will be removed from pandas in a future version. Use pandas.concat instead.\n",
      "  ebola_df = ebola_df.append(new_row, ignore_index = True)\n",
      "/tmp/ipykernel_441022/490121321.py:5: FutureWarning: The frame.append method is deprecated and will be removed from pandas in a future version. Use pandas.concat instead.\n",
      "  ebola_df = ebola_df.append(new_row, ignore_index = True)\n",
      "/tmp/ipykernel_441022/490121321.py:5: FutureWarning: The frame.append method is deprecated and will be removed from pandas in a future version. Use pandas.concat instead.\n",
      "  ebola_df = ebola_df.append(new_row, ignore_index = True)\n",
      "/tmp/ipykernel_441022/490121321.py:5: FutureWarning: The frame.append method is deprecated and will be removed from pandas in a future version. Use pandas.concat instead.\n",
      "  ebola_df = ebola_df.append(new_row, ignore_index = True)\n",
      "/tmp/ipykernel_441022/490121321.py:5: FutureWarning: The frame.append method is deprecated and will be removed from pandas in a future version. Use pandas.concat instead.\n",
      "  ebola_df = ebola_df.append(new_row, ignore_index = True)\n",
      "/tmp/ipykernel_441022/490121321.py:5: FutureWarning: The frame.append method is deprecated and will be removed from pandas in a future version. Use pandas.concat instead.\n",
      "  ebola_df = ebola_df.append(new_row, ignore_index = True)\n",
      "/tmp/ipykernel_441022/490121321.py:5: FutureWarning: The frame.append method is deprecated and will be removed from pandas in a future version. Use pandas.concat instead.\n",
      "  ebola_df = ebola_df.append(new_row, ignore_index = True)\n",
      "/tmp/ipykernel_441022/490121321.py:5: FutureWarning: The frame.append method is deprecated and will be removed from pandas in a future version. Use pandas.concat instead.\n",
      "  ebola_df = ebola_df.append(new_row, ignore_index = True)\n",
      "/tmp/ipykernel_441022/490121321.py:5: FutureWarning: The frame.append method is deprecated and will be removed from pandas in a future version. Use pandas.concat instead.\n",
      "  ebola_df = ebola_df.append(new_row, ignore_index = True)\n",
      "/tmp/ipykernel_441022/490121321.py:5: FutureWarning: The frame.append method is deprecated and will be removed from pandas in a future version. Use pandas.concat instead.\n",
      "  ebola_df = ebola_df.append(new_row, ignore_index = True)\n",
      "/tmp/ipykernel_441022/490121321.py:5: FutureWarning: The frame.append method is deprecated and will be removed from pandas in a future version. Use pandas.concat instead.\n",
      "  ebola_df = ebola_df.append(new_row, ignore_index = True)\n",
      "/tmp/ipykernel_441022/490121321.py:5: FutureWarning: The frame.append method is deprecated and will be removed from pandas in a future version. Use pandas.concat instead.\n",
      "  ebola_df = ebola_df.append(new_row, ignore_index = True)\n",
      "/tmp/ipykernel_441022/490121321.py:5: FutureWarning: The frame.append method is deprecated and will be removed from pandas in a future version. Use pandas.concat instead.\n",
      "  ebola_df = ebola_df.append(new_row, ignore_index = True)\n",
      "/tmp/ipykernel_441022/490121321.py:5: FutureWarning: The frame.append method is deprecated and will be removed from pandas in a future version. Use pandas.concat instead.\n",
      "  ebola_df = ebola_df.append(new_row, ignore_index = True)\n",
      "/tmp/ipykernel_441022/490121321.py:5: FutureWarning: The frame.append method is deprecated and will be removed from pandas in a future version. Use pandas.concat instead.\n",
      "  ebola_df = ebola_df.append(new_row, ignore_index = True)\n",
      "/tmp/ipykernel_441022/490121321.py:5: FutureWarning: The frame.append method is deprecated and will be removed from pandas in a future version. Use pandas.concat instead.\n",
      "  ebola_df = ebola_df.append(new_row, ignore_index = True)\n",
      "/tmp/ipykernel_441022/490121321.py:5: FutureWarning: The frame.append method is deprecated and will be removed from pandas in a future version. Use pandas.concat instead.\n",
      "  ebola_df = ebola_df.append(new_row, ignore_index = True)\n",
      "/tmp/ipykernel_441022/490121321.py:5: FutureWarning: The frame.append method is deprecated and will be removed from pandas in a future version. Use pandas.concat instead.\n",
      "  ebola_df = ebola_df.append(new_row, ignore_index = True)\n",
      "/tmp/ipykernel_441022/490121321.py:5: FutureWarning: The frame.append method is deprecated and will be removed from pandas in a future version. Use pandas.concat instead.\n",
      "  ebola_df = ebola_df.append(new_row, ignore_index = True)\n",
      "/tmp/ipykernel_441022/490121321.py:5: FutureWarning: The frame.append method is deprecated and will be removed from pandas in a future version. Use pandas.concat instead.\n",
      "  ebola_df = ebola_df.append(new_row, ignore_index = True)\n",
      "/tmp/ipykernel_441022/490121321.py:5: FutureWarning: The frame.append method is deprecated and will be removed from pandas in a future version. Use pandas.concat instead.\n",
      "  ebola_df = ebola_df.append(new_row, ignore_index = True)\n",
      "/tmp/ipykernel_441022/490121321.py:5: FutureWarning: The frame.append method is deprecated and will be removed from pandas in a future version. Use pandas.concat instead.\n",
      "  ebola_df = ebola_df.append(new_row, ignore_index = True)\n",
      "/tmp/ipykernel_441022/490121321.py:5: FutureWarning: The frame.append method is deprecated and will be removed from pandas in a future version. Use pandas.concat instead.\n",
      "  ebola_df = ebola_df.append(new_row, ignore_index = True)\n",
      "/tmp/ipykernel_441022/490121321.py:5: FutureWarning: The frame.append method is deprecated and will be removed from pandas in a future version. Use pandas.concat instead.\n",
      "  ebola_df = ebola_df.append(new_row, ignore_index = True)\n",
      "/tmp/ipykernel_441022/490121321.py:5: FutureWarning: The frame.append method is deprecated and will be removed from pandas in a future version. Use pandas.concat instead.\n",
      "  ebola_df = ebola_df.append(new_row, ignore_index = True)\n",
      "/tmp/ipykernel_441022/490121321.py:5: FutureWarning: The frame.append method is deprecated and will be removed from pandas in a future version. Use pandas.concat instead.\n",
      "  ebola_df = ebola_df.append(new_row, ignore_index = True)\n",
      "/tmp/ipykernel_441022/490121321.py:5: FutureWarning: The frame.append method is deprecated and will be removed from pandas in a future version. Use pandas.concat instead.\n",
      "  ebola_df = ebola_df.append(new_row, ignore_index = True)\n",
      "/tmp/ipykernel_441022/490121321.py:5: FutureWarning: The frame.append method is deprecated and will be removed from pandas in a future version. Use pandas.concat instead.\n",
      "  ebola_df = ebola_df.append(new_row, ignore_index = True)\n",
      "/tmp/ipykernel_441022/490121321.py:5: FutureWarning: The frame.append method is deprecated and will be removed from pandas in a future version. Use pandas.concat instead.\n",
      "  ebola_df = ebola_df.append(new_row, ignore_index = True)\n",
      "/tmp/ipykernel_441022/490121321.py:5: FutureWarning: The frame.append method is deprecated and will be removed from pandas in a future version. Use pandas.concat instead.\n",
      "  ebola_df = ebola_df.append(new_row, ignore_index = True)\n",
      "/tmp/ipykernel_441022/490121321.py:5: FutureWarning: The frame.append method is deprecated and will be removed from pandas in a future version. Use pandas.concat instead.\n",
      "  ebola_df = ebola_df.append(new_row, ignore_index = True)\n",
      "/tmp/ipykernel_441022/490121321.py:5: FutureWarning: The frame.append method is deprecated and will be removed from pandas in a future version. Use pandas.concat instead.\n",
      "  ebola_df = ebola_df.append(new_row, ignore_index = True)\n",
      "/tmp/ipykernel_441022/490121321.py:5: FutureWarning: The frame.append method is deprecated and will be removed from pandas in a future version. Use pandas.concat instead.\n",
      "  ebola_df = ebola_df.append(new_row, ignore_index = True)\n",
      "/tmp/ipykernel_441022/490121321.py:5: FutureWarning: The frame.append method is deprecated and will be removed from pandas in a future version. Use pandas.concat instead.\n",
      "  ebola_df = ebola_df.append(new_row, ignore_index = True)\n",
      "/tmp/ipykernel_441022/490121321.py:5: FutureWarning: The frame.append method is deprecated and will be removed from pandas in a future version. Use pandas.concat instead.\n",
      "  ebola_df = ebola_df.append(new_row, ignore_index = True)\n",
      "/tmp/ipykernel_441022/490121321.py:5: FutureWarning: The frame.append method is deprecated and will be removed from pandas in a future version. Use pandas.concat instead.\n",
      "  ebola_df = ebola_df.append(new_row, ignore_index = True)\n",
      "/tmp/ipykernel_441022/490121321.py:5: FutureWarning: The frame.append method is deprecated and will be removed from pandas in a future version. Use pandas.concat instead.\n",
      "  ebola_df = ebola_df.append(new_row, ignore_index = True)\n",
      "/tmp/ipykernel_441022/490121321.py:5: FutureWarning: The frame.append method is deprecated and will be removed from pandas in a future version. Use pandas.concat instead.\n",
      "  ebola_df = ebola_df.append(new_row, ignore_index = True)\n",
      "/tmp/ipykernel_441022/490121321.py:5: FutureWarning: The frame.append method is deprecated and will be removed from pandas in a future version. Use pandas.concat instead.\n",
      "  ebola_df = ebola_df.append(new_row, ignore_index = True)\n",
      "/tmp/ipykernel_441022/490121321.py:5: FutureWarning: The frame.append method is deprecated and will be removed from pandas in a future version. Use pandas.concat instead.\n",
      "  ebola_df = ebola_df.append(new_row, ignore_index = True)\n",
      "/tmp/ipykernel_441022/490121321.py:5: FutureWarning: The frame.append method is deprecated and will be removed from pandas in a future version. Use pandas.concat instead.\n",
      "  ebola_df = ebola_df.append(new_row, ignore_index = True)\n",
      "/tmp/ipykernel_441022/490121321.py:5: FutureWarning: The frame.append method is deprecated and will be removed from pandas in a future version. Use pandas.concat instead.\n",
      "  ebola_df = ebola_df.append(new_row, ignore_index = True)\n",
      "/tmp/ipykernel_441022/490121321.py:5: FutureWarning: The frame.append method is deprecated and will be removed from pandas in a future version. Use pandas.concat instead.\n",
      "  ebola_df = ebola_df.append(new_row, ignore_index = True)\n",
      "/tmp/ipykernel_441022/490121321.py:5: FutureWarning: The frame.append method is deprecated and will be removed from pandas in a future version. Use pandas.concat instead.\n",
      "  ebola_df = ebola_df.append(new_row, ignore_index = True)\n",
      "/tmp/ipykernel_441022/490121321.py:5: FutureWarning: The frame.append method is deprecated and will be removed from pandas in a future version. Use pandas.concat instead.\n",
      "  ebola_df = ebola_df.append(new_row, ignore_index = True)\n",
      "/tmp/ipykernel_441022/490121321.py:5: FutureWarning: The frame.append method is deprecated and will be removed from pandas in a future version. Use pandas.concat instead.\n",
      "  ebola_df = ebola_df.append(new_row, ignore_index = True)\n",
      "/tmp/ipykernel_441022/490121321.py:5: FutureWarning: The frame.append method is deprecated and will be removed from pandas in a future version. Use pandas.concat instead.\n",
      "  ebola_df = ebola_df.append(new_row, ignore_index = True)\n",
      "/tmp/ipykernel_441022/490121321.py:5: FutureWarning: The frame.append method is deprecated and will be removed from pandas in a future version. Use pandas.concat instead.\n",
      "  ebola_df = ebola_df.append(new_row, ignore_index = True)\n",
      "/tmp/ipykernel_441022/490121321.py:5: FutureWarning: The frame.append method is deprecated and will be removed from pandas in a future version. Use pandas.concat instead.\n",
      "  ebola_df = ebola_df.append(new_row, ignore_index = True)\n",
      "/tmp/ipykernel_441022/490121321.py:5: FutureWarning: The frame.append method is deprecated and will be removed from pandas in a future version. Use pandas.concat instead.\n",
      "  ebola_df = ebola_df.append(new_row, ignore_index = True)\n",
      "/tmp/ipykernel_441022/490121321.py:5: FutureWarning: The frame.append method is deprecated and will be removed from pandas in a future version. Use pandas.concat instead.\n",
      "  ebola_df = ebola_df.append(new_row, ignore_index = True)\n",
      "/tmp/ipykernel_441022/490121321.py:5: FutureWarning: The frame.append method is deprecated and will be removed from pandas in a future version. Use pandas.concat instead.\n",
      "  ebola_df = ebola_df.append(new_row, ignore_index = True)\n",
      "/tmp/ipykernel_441022/490121321.py:5: FutureWarning: The frame.append method is deprecated and will be removed from pandas in a future version. Use pandas.concat instead.\n",
      "  ebola_df = ebola_df.append(new_row, ignore_index = True)\n",
      "/tmp/ipykernel_441022/490121321.py:5: FutureWarning: The frame.append method is deprecated and will be removed from pandas in a future version. Use pandas.concat instead.\n",
      "  ebola_df = ebola_df.append(new_row, ignore_index = True)\n",
      "/tmp/ipykernel_441022/490121321.py:5: FutureWarning: The frame.append method is deprecated and will be removed from pandas in a future version. Use pandas.concat instead.\n",
      "  ebola_df = ebola_df.append(new_row, ignore_index = True)\n",
      "/tmp/ipykernel_441022/490121321.py:5: FutureWarning: The frame.append method is deprecated and will be removed from pandas in a future version. Use pandas.concat instead.\n",
      "  ebola_df = ebola_df.append(new_row, ignore_index = True)\n",
      "/tmp/ipykernel_441022/490121321.py:5: FutureWarning: The frame.append method is deprecated and will be removed from pandas in a future version. Use pandas.concat instead.\n",
      "  ebola_df = ebola_df.append(new_row, ignore_index = True)\n",
      "/tmp/ipykernel_441022/490121321.py:5: FutureWarning: The frame.append method is deprecated and will be removed from pandas in a future version. Use pandas.concat instead.\n",
      "  ebola_df = ebola_df.append(new_row, ignore_index = True)\n",
      "/tmp/ipykernel_441022/490121321.py:5: FutureWarning: The frame.append method is deprecated and will be removed from pandas in a future version. Use pandas.concat instead.\n",
      "  ebola_df = ebola_df.append(new_row, ignore_index = True)\n",
      "/tmp/ipykernel_441022/490121321.py:5: FutureWarning: The frame.append method is deprecated and will be removed from pandas in a future version. Use pandas.concat instead.\n",
      "  ebola_df = ebola_df.append(new_row, ignore_index = True)\n",
      "/tmp/ipykernel_441022/490121321.py:5: FutureWarning: The frame.append method is deprecated and will be removed from pandas in a future version. Use pandas.concat instead.\n",
      "  ebola_df = ebola_df.append(new_row, ignore_index = True)\n",
      "/tmp/ipykernel_441022/490121321.py:5: FutureWarning: The frame.append method is deprecated and will be removed from pandas in a future version. Use pandas.concat instead.\n",
      "  ebola_df = ebola_df.append(new_row, ignore_index = True)\n",
      "/tmp/ipykernel_441022/490121321.py:5: FutureWarning: The frame.append method is deprecated and will be removed from pandas in a future version. Use pandas.concat instead.\n",
      "  ebola_df = ebola_df.append(new_row, ignore_index = True)\n",
      "/tmp/ipykernel_441022/490121321.py:5: FutureWarning: The frame.append method is deprecated and will be removed from pandas in a future version. Use pandas.concat instead.\n",
      "  ebola_df = ebola_df.append(new_row, ignore_index = True)\n",
      "/tmp/ipykernel_441022/490121321.py:5: FutureWarning: The frame.append method is deprecated and will be removed from pandas in a future version. Use pandas.concat instead.\n",
      "  ebola_df = ebola_df.append(new_row, ignore_index = True)\n",
      "/tmp/ipykernel_441022/490121321.py:5: FutureWarning: The frame.append method is deprecated and will be removed from pandas in a future version. Use pandas.concat instead.\n",
      "  ebola_df = ebola_df.append(new_row, ignore_index = True)\n",
      "/tmp/ipykernel_441022/490121321.py:5: FutureWarning: The frame.append method is deprecated and will be removed from pandas in a future version. Use pandas.concat instead.\n",
      "  ebola_df = ebola_df.append(new_row, ignore_index = True)\n",
      "/tmp/ipykernel_441022/490121321.py:5: FutureWarning: The frame.append method is deprecated and will be removed from pandas in a future version. Use pandas.concat instead.\n",
      "  ebola_df = ebola_df.append(new_row, ignore_index = True)\n",
      "/tmp/ipykernel_441022/490121321.py:5: FutureWarning: The frame.append method is deprecated and will be removed from pandas in a future version. Use pandas.concat instead.\n",
      "  ebola_df = ebola_df.append(new_row, ignore_index = True)\n",
      "/tmp/ipykernel_441022/490121321.py:5: FutureWarning: The frame.append method is deprecated and will be removed from pandas in a future version. Use pandas.concat instead.\n",
      "  ebola_df = ebola_df.append(new_row, ignore_index = True)\n",
      "/tmp/ipykernel_441022/490121321.py:5: FutureWarning: The frame.append method is deprecated and will be removed from pandas in a future version. Use pandas.concat instead.\n",
      "  ebola_df = ebola_df.append(new_row, ignore_index = True)\n",
      "/tmp/ipykernel_441022/490121321.py:5: FutureWarning: The frame.append method is deprecated and will be removed from pandas in a future version. Use pandas.concat instead.\n",
      "  ebola_df = ebola_df.append(new_row, ignore_index = True)\n",
      "/tmp/ipykernel_441022/490121321.py:5: FutureWarning: The frame.append method is deprecated and will be removed from pandas in a future version. Use pandas.concat instead.\n",
      "  ebola_df = ebola_df.append(new_row, ignore_index = True)\n",
      "/tmp/ipykernel_441022/490121321.py:5: FutureWarning: The frame.append method is deprecated and will be removed from pandas in a future version. Use pandas.concat instead.\n",
      "  ebola_df = ebola_df.append(new_row, ignore_index = True)\n",
      "/tmp/ipykernel_441022/490121321.py:5: FutureWarning: The frame.append method is deprecated and will be removed from pandas in a future version. Use pandas.concat instead.\n",
      "  ebola_df = ebola_df.append(new_row, ignore_index = True)\n",
      "/tmp/ipykernel_441022/490121321.py:5: FutureWarning: The frame.append method is deprecated and will be removed from pandas in a future version. Use pandas.concat instead.\n",
      "  ebola_df = ebola_df.append(new_row, ignore_index = True)\n",
      "/tmp/ipykernel_441022/490121321.py:5: FutureWarning: The frame.append method is deprecated and will be removed from pandas in a future version. Use pandas.concat instead.\n",
      "  ebola_df = ebola_df.append(new_row, ignore_index = True)\n",
      "/tmp/ipykernel_441022/490121321.py:5: FutureWarning: The frame.append method is deprecated and will be removed from pandas in a future version. Use pandas.concat instead.\n",
      "  ebola_df = ebola_df.append(new_row, ignore_index = True)\n",
      "/tmp/ipykernel_441022/490121321.py:5: FutureWarning: The frame.append method is deprecated and will be removed from pandas in a future version. Use pandas.concat instead.\n",
      "  ebola_df = ebola_df.append(new_row, ignore_index = True)\n",
      "/tmp/ipykernel_441022/490121321.py:5: FutureWarning: The frame.append method is deprecated and will be removed from pandas in a future version. Use pandas.concat instead.\n",
      "  ebola_df = ebola_df.append(new_row, ignore_index = True)\n",
      "/tmp/ipykernel_441022/490121321.py:5: FutureWarning: The frame.append method is deprecated and will be removed from pandas in a future version. Use pandas.concat instead.\n",
      "  ebola_df = ebola_df.append(new_row, ignore_index = True)\n",
      "/tmp/ipykernel_441022/490121321.py:5: FutureWarning: The frame.append method is deprecated and will be removed from pandas in a future version. Use pandas.concat instead.\n",
      "  ebola_df = ebola_df.append(new_row, ignore_index = True)\n",
      "/tmp/ipykernel_441022/490121321.py:5: FutureWarning: The frame.append method is deprecated and will be removed from pandas in a future version. Use pandas.concat instead.\n",
      "  ebola_df = ebola_df.append(new_row, ignore_index = True)\n",
      "/tmp/ipykernel_441022/490121321.py:5: FutureWarning: The frame.append method is deprecated and will be removed from pandas in a future version. Use pandas.concat instead.\n",
      "  ebola_df = ebola_df.append(new_row, ignore_index = True)\n",
      "/tmp/ipykernel_441022/490121321.py:5: FutureWarning: The frame.append method is deprecated and will be removed from pandas in a future version. Use pandas.concat instead.\n",
      "  ebola_df = ebola_df.append(new_row, ignore_index = True)\n",
      "/tmp/ipykernel_441022/490121321.py:5: FutureWarning: The frame.append method is deprecated and will be removed from pandas in a future version. Use pandas.concat instead.\n",
      "  ebola_df = ebola_df.append(new_row, ignore_index = True)\n",
      "/tmp/ipykernel_441022/490121321.py:5: FutureWarning: The frame.append method is deprecated and will be removed from pandas in a future version. Use pandas.concat instead.\n",
      "  ebola_df = ebola_df.append(new_row, ignore_index = True)\n",
      "/tmp/ipykernel_441022/490121321.py:5: FutureWarning: The frame.append method is deprecated and will be removed from pandas in a future version. Use pandas.concat instead.\n",
      "  ebola_df = ebola_df.append(new_row, ignore_index = True)\n",
      "/tmp/ipykernel_441022/490121321.py:5: FutureWarning: The frame.append method is deprecated and will be removed from pandas in a future version. Use pandas.concat instead.\n",
      "  ebola_df = ebola_df.append(new_row, ignore_index = True)\n",
      "/tmp/ipykernel_441022/490121321.py:5: FutureWarning: The frame.append method is deprecated and will be removed from pandas in a future version. Use pandas.concat instead.\n",
      "  ebola_df = ebola_df.append(new_row, ignore_index = True)\n",
      "/tmp/ipykernel_441022/490121321.py:5: FutureWarning: The frame.append method is deprecated and will be removed from pandas in a future version. Use pandas.concat instead.\n",
      "  ebola_df = ebola_df.append(new_row, ignore_index = True)\n",
      "/tmp/ipykernel_441022/490121321.py:5: FutureWarning: The frame.append method is deprecated and will be removed from pandas in a future version. Use pandas.concat instead.\n",
      "  ebola_df = ebola_df.append(new_row, ignore_index = True)\n",
      "/tmp/ipykernel_441022/490121321.py:5: FutureWarning: The frame.append method is deprecated and will be removed from pandas in a future version. Use pandas.concat instead.\n",
      "  ebola_df = ebola_df.append(new_row, ignore_index = True)\n",
      "/tmp/ipykernel_441022/490121321.py:5: FutureWarning: The frame.append method is deprecated and will be removed from pandas in a future version. Use pandas.concat instead.\n",
      "  ebola_df = ebola_df.append(new_row, ignore_index = True)\n",
      "/tmp/ipykernel_441022/490121321.py:5: FutureWarning: The frame.append method is deprecated and will be removed from pandas in a future version. Use pandas.concat instead.\n",
      "  ebola_df = ebola_df.append(new_row, ignore_index = True)\n",
      "/tmp/ipykernel_441022/490121321.py:5: FutureWarning: The frame.append method is deprecated and will be removed from pandas in a future version. Use pandas.concat instead.\n",
      "  ebola_df = ebola_df.append(new_row, ignore_index = True)\n",
      "/tmp/ipykernel_441022/490121321.py:5: FutureWarning: The frame.append method is deprecated and will be removed from pandas in a future version. Use pandas.concat instead.\n",
      "  ebola_df = ebola_df.append(new_row, ignore_index = True)\n",
      "/tmp/ipykernel_441022/490121321.py:5: FutureWarning: The frame.append method is deprecated and will be removed from pandas in a future version. Use pandas.concat instead.\n",
      "  ebola_df = ebola_df.append(new_row, ignore_index = True)\n",
      "/tmp/ipykernel_441022/490121321.py:5: FutureWarning: The frame.append method is deprecated and will be removed from pandas in a future version. Use pandas.concat instead.\n",
      "  ebola_df = ebola_df.append(new_row, ignore_index = True)\n",
      "/tmp/ipykernel_441022/490121321.py:5: FutureWarning: The frame.append method is deprecated and will be removed from pandas in a future version. Use pandas.concat instead.\n",
      "  ebola_df = ebola_df.append(new_row, ignore_index = True)\n",
      "/tmp/ipykernel_441022/490121321.py:5: FutureWarning: The frame.append method is deprecated and will be removed from pandas in a future version. Use pandas.concat instead.\n",
      "  ebola_df = ebola_df.append(new_row, ignore_index = True)\n",
      "/tmp/ipykernel_441022/490121321.py:5: FutureWarning: The frame.append method is deprecated and will be removed from pandas in a future version. Use pandas.concat instead.\n",
      "  ebola_df = ebola_df.append(new_row, ignore_index = True)\n",
      "/tmp/ipykernel_441022/490121321.py:5: FutureWarning: The frame.append method is deprecated and will be removed from pandas in a future version. Use pandas.concat instead.\n",
      "  ebola_df = ebola_df.append(new_row, ignore_index = True)\n",
      "/tmp/ipykernel_441022/490121321.py:5: FutureWarning: The frame.append method is deprecated and will be removed from pandas in a future version. Use pandas.concat instead.\n",
      "  ebola_df = ebola_df.append(new_row, ignore_index = True)\n",
      "/tmp/ipykernel_441022/490121321.py:5: FutureWarning: The frame.append method is deprecated and will be removed from pandas in a future version. Use pandas.concat instead.\n",
      "  ebola_df = ebola_df.append(new_row, ignore_index = True)\n",
      "/tmp/ipykernel_441022/490121321.py:5: FutureWarning: The frame.append method is deprecated and will be removed from pandas in a future version. Use pandas.concat instead.\n",
      "  ebola_df = ebola_df.append(new_row, ignore_index = True)\n",
      "/tmp/ipykernel_441022/490121321.py:5: FutureWarning: The frame.append method is deprecated and will be removed from pandas in a future version. Use pandas.concat instead.\n",
      "  ebola_df = ebola_df.append(new_row, ignore_index = True)\n",
      "/tmp/ipykernel_441022/490121321.py:5: FutureWarning: The frame.append method is deprecated and will be removed from pandas in a future version. Use pandas.concat instead.\n",
      "  ebola_df = ebola_df.append(new_row, ignore_index = True)\n",
      "/tmp/ipykernel_441022/490121321.py:5: FutureWarning: The frame.append method is deprecated and will be removed from pandas in a future version. Use pandas.concat instead.\n",
      "  ebola_df = ebola_df.append(new_row, ignore_index = True)\n",
      "/tmp/ipykernel_441022/490121321.py:5: FutureWarning: The frame.append method is deprecated and will be removed from pandas in a future version. Use pandas.concat instead.\n",
      "  ebola_df = ebola_df.append(new_row, ignore_index = True)\n",
      "/tmp/ipykernel_441022/490121321.py:5: FutureWarning: The frame.append method is deprecated and will be removed from pandas in a future version. Use pandas.concat instead.\n",
      "  ebola_df = ebola_df.append(new_row, ignore_index = True)\n",
      "/tmp/ipykernel_441022/490121321.py:5: FutureWarning: The frame.append method is deprecated and will be removed from pandas in a future version. Use pandas.concat instead.\n",
      "  ebola_df = ebola_df.append(new_row, ignore_index = True)\n",
      "/tmp/ipykernel_441022/490121321.py:5: FutureWarning: The frame.append method is deprecated and will be removed from pandas in a future version. Use pandas.concat instead.\n",
      "  ebola_df = ebola_df.append(new_row, ignore_index = True)\n",
      "/tmp/ipykernel_441022/490121321.py:5: FutureWarning: The frame.append method is deprecated and will be removed from pandas in a future version. Use pandas.concat instead.\n",
      "  ebola_df = ebola_df.append(new_row, ignore_index = True)\n",
      "/tmp/ipykernel_441022/490121321.py:5: FutureWarning: The frame.append method is deprecated and will be removed from pandas in a future version. Use pandas.concat instead.\n",
      "  ebola_df = ebola_df.append(new_row, ignore_index = True)\n",
      "/tmp/ipykernel_441022/490121321.py:5: FutureWarning: The frame.append method is deprecated and will be removed from pandas in a future version. Use pandas.concat instead.\n",
      "  ebola_df = ebola_df.append(new_row, ignore_index = True)\n",
      "/tmp/ipykernel_441022/490121321.py:5: FutureWarning: The frame.append method is deprecated and will be removed from pandas in a future version. Use pandas.concat instead.\n",
      "  ebola_df = ebola_df.append(new_row, ignore_index = True)\n",
      "/tmp/ipykernel_441022/490121321.py:5: FutureWarning: The frame.append method is deprecated and will be removed from pandas in a future version. Use pandas.concat instead.\n",
      "  ebola_df = ebola_df.append(new_row, ignore_index = True)\n",
      "/tmp/ipykernel_441022/490121321.py:5: FutureWarning: The frame.append method is deprecated and will be removed from pandas in a future version. Use pandas.concat instead.\n",
      "  ebola_df = ebola_df.append(new_row, ignore_index = True)\n",
      "/tmp/ipykernel_441022/490121321.py:5: FutureWarning: The frame.append method is deprecated and will be removed from pandas in a future version. Use pandas.concat instead.\n",
      "  ebola_df = ebola_df.append(new_row, ignore_index = True)\n",
      "/tmp/ipykernel_441022/490121321.py:5: FutureWarning: The frame.append method is deprecated and will be removed from pandas in a future version. Use pandas.concat instead.\n",
      "  ebola_df = ebola_df.append(new_row, ignore_index = True)\n",
      "/tmp/ipykernel_441022/490121321.py:5: FutureWarning: The frame.append method is deprecated and will be removed from pandas in a future version. Use pandas.concat instead.\n",
      "  ebola_df = ebola_df.append(new_row, ignore_index = True)\n",
      "/tmp/ipykernel_441022/490121321.py:5: FutureWarning: The frame.append method is deprecated and will be removed from pandas in a future version. Use pandas.concat instead.\n",
      "  ebola_df = ebola_df.append(new_row, ignore_index = True)\n",
      "/tmp/ipykernel_441022/490121321.py:5: FutureWarning: The frame.append method is deprecated and will be removed from pandas in a future version. Use pandas.concat instead.\n",
      "  ebola_df = ebola_df.append(new_row, ignore_index = True)\n",
      "/tmp/ipykernel_441022/490121321.py:5: FutureWarning: The frame.append method is deprecated and will be removed from pandas in a future version. Use pandas.concat instead.\n",
      "  ebola_df = ebola_df.append(new_row, ignore_index = True)\n",
      "/tmp/ipykernel_441022/490121321.py:5: FutureWarning: The frame.append method is deprecated and will be removed from pandas in a future version. Use pandas.concat instead.\n",
      "  ebola_df = ebola_df.append(new_row, ignore_index = True)\n",
      "/tmp/ipykernel_441022/490121321.py:5: FutureWarning: The frame.append method is deprecated and will be removed from pandas in a future version. Use pandas.concat instead.\n",
      "  ebola_df = ebola_df.append(new_row, ignore_index = True)\n",
      "/tmp/ipykernel_441022/490121321.py:5: FutureWarning: The frame.append method is deprecated and will be removed from pandas in a future version. Use pandas.concat instead.\n",
      "  ebola_df = ebola_df.append(new_row, ignore_index = True)\n",
      "/tmp/ipykernel_441022/490121321.py:5: FutureWarning: The frame.append method is deprecated and will be removed from pandas in a future version. Use pandas.concat instead.\n",
      "  ebola_df = ebola_df.append(new_row, ignore_index = True)\n",
      "/tmp/ipykernel_441022/490121321.py:5: FutureWarning: The frame.append method is deprecated and will be removed from pandas in a future version. Use pandas.concat instead.\n",
      "  ebola_df = ebola_df.append(new_row, ignore_index = True)\n",
      "/tmp/ipykernel_441022/490121321.py:5: FutureWarning: The frame.append method is deprecated and will be removed from pandas in a future version. Use pandas.concat instead.\n",
      "  ebola_df = ebola_df.append(new_row, ignore_index = True)\n",
      "/tmp/ipykernel_441022/490121321.py:5: FutureWarning: The frame.append method is deprecated and will be removed from pandas in a future version. Use pandas.concat instead.\n",
      "  ebola_df = ebola_df.append(new_row, ignore_index = True)\n",
      "/tmp/ipykernel_441022/490121321.py:5: FutureWarning: The frame.append method is deprecated and will be removed from pandas in a future version. Use pandas.concat instead.\n",
      "  ebola_df = ebola_df.append(new_row, ignore_index = True)\n",
      "/tmp/ipykernel_441022/490121321.py:5: FutureWarning: The frame.append method is deprecated and will be removed from pandas in a future version. Use pandas.concat instead.\n",
      "  ebola_df = ebola_df.append(new_row, ignore_index = True)\n",
      "/tmp/ipykernel_441022/490121321.py:5: FutureWarning: The frame.append method is deprecated and will be removed from pandas in a future version. Use pandas.concat instead.\n",
      "  ebola_df = ebola_df.append(new_row, ignore_index = True)\n",
      "/tmp/ipykernel_441022/490121321.py:5: FutureWarning: The frame.append method is deprecated and will be removed from pandas in a future version. Use pandas.concat instead.\n",
      "  ebola_df = ebola_df.append(new_row, ignore_index = True)\n",
      "/tmp/ipykernel_441022/490121321.py:5: FutureWarning: The frame.append method is deprecated and will be removed from pandas in a future version. Use pandas.concat instead.\n",
      "  ebola_df = ebola_df.append(new_row, ignore_index = True)\n",
      "/tmp/ipykernel_441022/490121321.py:5: FutureWarning: The frame.append method is deprecated and will be removed from pandas in a future version. Use pandas.concat instead.\n",
      "  ebola_df = ebola_df.append(new_row, ignore_index = True)\n",
      "/tmp/ipykernel_441022/490121321.py:5: FutureWarning: The frame.append method is deprecated and will be removed from pandas in a future version. Use pandas.concat instead.\n",
      "  ebola_df = ebola_df.append(new_row, ignore_index = True)\n",
      "/tmp/ipykernel_441022/490121321.py:5: FutureWarning: The frame.append method is deprecated and will be removed from pandas in a future version. Use pandas.concat instead.\n",
      "  ebola_df = ebola_df.append(new_row, ignore_index = True)\n",
      "/tmp/ipykernel_441022/490121321.py:5: FutureWarning: The frame.append method is deprecated and will be removed from pandas in a future version. Use pandas.concat instead.\n",
      "  ebola_df = ebola_df.append(new_row, ignore_index = True)\n",
      "/tmp/ipykernel_441022/490121321.py:5: FutureWarning: The frame.append method is deprecated and will be removed from pandas in a future version. Use pandas.concat instead.\n",
      "  ebola_df = ebola_df.append(new_row, ignore_index = True)\n",
      "/tmp/ipykernel_441022/490121321.py:5: FutureWarning: The frame.append method is deprecated and will be removed from pandas in a future version. Use pandas.concat instead.\n",
      "  ebola_df = ebola_df.append(new_row, ignore_index = True)\n",
      "/tmp/ipykernel_441022/490121321.py:5: FutureWarning: The frame.append method is deprecated and will be removed from pandas in a future version. Use pandas.concat instead.\n",
      "  ebola_df = ebola_df.append(new_row, ignore_index = True)\n",
      "/tmp/ipykernel_441022/490121321.py:5: FutureWarning: The frame.append method is deprecated and will be removed from pandas in a future version. Use pandas.concat instead.\n",
      "  ebola_df = ebola_df.append(new_row, ignore_index = True)\n",
      "/tmp/ipykernel_441022/490121321.py:5: FutureWarning: The frame.append method is deprecated and will be removed from pandas in a future version. Use pandas.concat instead.\n",
      "  ebola_df = ebola_df.append(new_row, ignore_index = True)\n",
      "/tmp/ipykernel_441022/490121321.py:5: FutureWarning: The frame.append method is deprecated and will be removed from pandas in a future version. Use pandas.concat instead.\n",
      "  ebola_df = ebola_df.append(new_row, ignore_index = True)\n",
      "/tmp/ipykernel_441022/490121321.py:5: FutureWarning: The frame.append method is deprecated and will be removed from pandas in a future version. Use pandas.concat instead.\n",
      "  ebola_df = ebola_df.append(new_row, ignore_index = True)\n",
      "/tmp/ipykernel_441022/490121321.py:5: FutureWarning: The frame.append method is deprecated and will be removed from pandas in a future version. Use pandas.concat instead.\n",
      "  ebola_df = ebola_df.append(new_row, ignore_index = True)\n",
      "/tmp/ipykernel_441022/490121321.py:5: FutureWarning: The frame.append method is deprecated and will be removed from pandas in a future version. Use pandas.concat instead.\n",
      "  ebola_df = ebola_df.append(new_row, ignore_index = True)\n",
      "/tmp/ipykernel_441022/490121321.py:5: FutureWarning: The frame.append method is deprecated and will be removed from pandas in a future version. Use pandas.concat instead.\n",
      "  ebola_df = ebola_df.append(new_row, ignore_index = True)\n",
      "/tmp/ipykernel_441022/490121321.py:5: FutureWarning: The frame.append method is deprecated and will be removed from pandas in a future version. Use pandas.concat instead.\n",
      "  ebola_df = ebola_df.append(new_row, ignore_index = True)\n",
      "/tmp/ipykernel_441022/490121321.py:5: FutureWarning: The frame.append method is deprecated and will be removed from pandas in a future version. Use pandas.concat instead.\n",
      "  ebola_df = ebola_df.append(new_row, ignore_index = True)\n",
      "/tmp/ipykernel_441022/490121321.py:5: FutureWarning: The frame.append method is deprecated and will be removed from pandas in a future version. Use pandas.concat instead.\n",
      "  ebola_df = ebola_df.append(new_row, ignore_index = True)\n",
      "/tmp/ipykernel_441022/490121321.py:5: FutureWarning: The frame.append method is deprecated and will be removed from pandas in a future version. Use pandas.concat instead.\n",
      "  ebola_df = ebola_df.append(new_row, ignore_index = True)\n",
      "/tmp/ipykernel_441022/490121321.py:5: FutureWarning: The frame.append method is deprecated and will be removed from pandas in a future version. Use pandas.concat instead.\n",
      "  ebola_df = ebola_df.append(new_row, ignore_index = True)\n",
      "/tmp/ipykernel_441022/490121321.py:5: FutureWarning: The frame.append method is deprecated and will be removed from pandas in a future version. Use pandas.concat instead.\n",
      "  ebola_df = ebola_df.append(new_row, ignore_index = True)\n",
      "/tmp/ipykernel_441022/490121321.py:5: FutureWarning: The frame.append method is deprecated and will be removed from pandas in a future version. Use pandas.concat instead.\n",
      "  ebola_df = ebola_df.append(new_row, ignore_index = True)\n",
      "/tmp/ipykernel_441022/490121321.py:5: FutureWarning: The frame.append method is deprecated and will be removed from pandas in a future version. Use pandas.concat instead.\n",
      "  ebola_df = ebola_df.append(new_row, ignore_index = True)\n",
      "/tmp/ipykernel_441022/490121321.py:5: FutureWarning: The frame.append method is deprecated and will be removed from pandas in a future version. Use pandas.concat instead.\n",
      "  ebola_df = ebola_df.append(new_row, ignore_index = True)\n",
      "/tmp/ipykernel_441022/490121321.py:5: FutureWarning: The frame.append method is deprecated and will be removed from pandas in a future version. Use pandas.concat instead.\n",
      "  ebola_df = ebola_df.append(new_row, ignore_index = True)\n",
      "/tmp/ipykernel_441022/490121321.py:5: FutureWarning: The frame.append method is deprecated and will be removed from pandas in a future version. Use pandas.concat instead.\n",
      "  ebola_df = ebola_df.append(new_row, ignore_index = True)\n",
      "/tmp/ipykernel_441022/490121321.py:5: FutureWarning: The frame.append method is deprecated and will be removed from pandas in a future version. Use pandas.concat instead.\n",
      "  ebola_df = ebola_df.append(new_row, ignore_index = True)\n",
      "/tmp/ipykernel_441022/490121321.py:5: FutureWarning: The frame.append method is deprecated and will be removed from pandas in a future version. Use pandas.concat instead.\n",
      "  ebola_df = ebola_df.append(new_row, ignore_index = True)\n",
      "/tmp/ipykernel_441022/490121321.py:5: FutureWarning: The frame.append method is deprecated and will be removed from pandas in a future version. Use pandas.concat instead.\n",
      "  ebola_df = ebola_df.append(new_row, ignore_index = True)\n",
      "/tmp/ipykernel_441022/490121321.py:5: FutureWarning: The frame.append method is deprecated and will be removed from pandas in a future version. Use pandas.concat instead.\n",
      "  ebola_df = ebola_df.append(new_row, ignore_index = True)\n",
      "/tmp/ipykernel_441022/490121321.py:5: FutureWarning: The frame.append method is deprecated and will be removed from pandas in a future version. Use pandas.concat instead.\n",
      "  ebola_df = ebola_df.append(new_row, ignore_index = True)\n",
      "/tmp/ipykernel_441022/490121321.py:5: FutureWarning: The frame.append method is deprecated and will be removed from pandas in a future version. Use pandas.concat instead.\n",
      "  ebola_df = ebola_df.append(new_row, ignore_index = True)\n",
      "/tmp/ipykernel_441022/490121321.py:5: FutureWarning: The frame.append method is deprecated and will be removed from pandas in a future version. Use pandas.concat instead.\n",
      "  ebola_df = ebola_df.append(new_row, ignore_index = True)\n",
      "/tmp/ipykernel_441022/490121321.py:5: FutureWarning: The frame.append method is deprecated and will be removed from pandas in a future version. Use pandas.concat instead.\n",
      "  ebola_df = ebola_df.append(new_row, ignore_index = True)\n",
      "/tmp/ipykernel_441022/490121321.py:5: FutureWarning: The frame.append method is deprecated and will be removed from pandas in a future version. Use pandas.concat instead.\n",
      "  ebola_df = ebola_df.append(new_row, ignore_index = True)\n",
      "/tmp/ipykernel_441022/490121321.py:5: FutureWarning: The frame.append method is deprecated and will be removed from pandas in a future version. Use pandas.concat instead.\n",
      "  ebola_df = ebola_df.append(new_row, ignore_index = True)\n",
      "/tmp/ipykernel_441022/490121321.py:5: FutureWarning: The frame.append method is deprecated and will be removed from pandas in a future version. Use pandas.concat instead.\n",
      "  ebola_df = ebola_df.append(new_row, ignore_index = True)\n",
      "/tmp/ipykernel_441022/490121321.py:5: FutureWarning: The frame.append method is deprecated and will be removed from pandas in a future version. Use pandas.concat instead.\n",
      "  ebola_df = ebola_df.append(new_row, ignore_index = True)\n",
      "/tmp/ipykernel_441022/490121321.py:5: FutureWarning: The frame.append method is deprecated and will be removed from pandas in a future version. Use pandas.concat instead.\n",
      "  ebola_df = ebola_df.append(new_row, ignore_index = True)\n",
      "/tmp/ipykernel_441022/490121321.py:5: FutureWarning: The frame.append method is deprecated and will be removed from pandas in a future version. Use pandas.concat instead.\n",
      "  ebola_df = ebola_df.append(new_row, ignore_index = True)\n",
      "/tmp/ipykernel_441022/490121321.py:5: FutureWarning: The frame.append method is deprecated and will be removed from pandas in a future version. Use pandas.concat instead.\n",
      "  ebola_df = ebola_df.append(new_row, ignore_index = True)\n",
      "/tmp/ipykernel_441022/490121321.py:5: FutureWarning: The frame.append method is deprecated and will be removed from pandas in a future version. Use pandas.concat instead.\n",
      "  ebola_df = ebola_df.append(new_row, ignore_index = True)\n",
      "/tmp/ipykernel_441022/490121321.py:5: FutureWarning: The frame.append method is deprecated and will be removed from pandas in a future version. Use pandas.concat instead.\n",
      "  ebola_df = ebola_df.append(new_row, ignore_index = True)\n",
      "/tmp/ipykernel_441022/490121321.py:5: FutureWarning: The frame.append method is deprecated and will be removed from pandas in a future version. Use pandas.concat instead.\n",
      "  ebola_df = ebola_df.append(new_row, ignore_index = True)\n",
      "/tmp/ipykernel_441022/490121321.py:5: FutureWarning: The frame.append method is deprecated and will be removed from pandas in a future version. Use pandas.concat instead.\n",
      "  ebola_df = ebola_df.append(new_row, ignore_index = True)\n",
      "/tmp/ipykernel_441022/490121321.py:5: FutureWarning: The frame.append method is deprecated and will be removed from pandas in a future version. Use pandas.concat instead.\n",
      "  ebola_df = ebola_df.append(new_row, ignore_index = True)\n",
      "/tmp/ipykernel_441022/490121321.py:5: FutureWarning: The frame.append method is deprecated and will be removed from pandas in a future version. Use pandas.concat instead.\n",
      "  ebola_df = ebola_df.append(new_row, ignore_index = True)\n",
      "/tmp/ipykernel_441022/490121321.py:5: FutureWarning: The frame.append method is deprecated and will be removed from pandas in a future version. Use pandas.concat instead.\n",
      "  ebola_df = ebola_df.append(new_row, ignore_index = True)\n",
      "/tmp/ipykernel_441022/490121321.py:5: FutureWarning: The frame.append method is deprecated and will be removed from pandas in a future version. Use pandas.concat instead.\n",
      "  ebola_df = ebola_df.append(new_row, ignore_index = True)\n",
      "/tmp/ipykernel_441022/490121321.py:5: FutureWarning: The frame.append method is deprecated and will be removed from pandas in a future version. Use pandas.concat instead.\n",
      "  ebola_df = ebola_df.append(new_row, ignore_index = True)\n"
     ]
    }
   ],
   "source": [
    "for date in dates: \n",
    "    for country in countries: \n",
    "        if ((ebola_df['Country'] == country) & (ebola_df['Date'] == date)).any() == False: \n",
    "            new_row = {'Country': country, 'Date': date, 'Cases': 0}\n",
    "            ebola_df = ebola_df.append(new_row, ignore_index = True)"
   ]
  },
  {
   "cell_type": "code",
   "execution_count": 127,
   "id": "3e2dd289",
   "metadata": {},
   "outputs": [
    {
     "name": "stdout",
     "output_type": "stream",
     "text": [
      "<class 'pandas.core.frame.DataFrame'>\n",
      "RangeIndex: 2590 entries, 0 to 2589\n",
      "Data columns (total 3 columns):\n",
      " #   Column   Non-Null Count  Dtype  \n",
      "---  ------   --------------  -----  \n",
      " 0   Country  2590 non-null   object \n",
      " 1   Date     2590 non-null   object \n",
      " 2   Cases    2590 non-null   float64\n",
      "dtypes: float64(1), object(2)\n",
      "memory usage: 60.8+ KB\n"
     ]
    }
   ],
   "source": [
    "ebola_df.info()"
   ]
  },
  {
   "cell_type": "code",
   "execution_count": 128,
   "id": "10c5f2ee",
   "metadata": {},
   "outputs": [],
   "source": [
    "ebola_df['Year'] = pd.DatetimeIndex(ebola_df['Date']).year"
   ]
  },
  {
   "cell_type": "code",
   "execution_count": 129,
   "id": "0217792c",
   "metadata": {},
   "outputs": [
    {
     "name": "stdout",
     "output_type": "stream",
     "text": [
      "<class 'pandas.core.frame.DataFrame'>\n",
      "RangeIndex: 30 entries, 0 to 29\n",
      "Data columns (total 7 columns):\n",
      " #   Column                                                                           Non-Null Count  Dtype  \n",
      "---  ------                                                                           --------------  -----  \n",
      " 0   Year                                                                             30 non-null     int64  \n",
      " 1   Time Code                                                                        30 non-null     object \n",
      " 2   Country                                                                          30 non-null     object \n",
      " 3   Country Code                                                                     30 non-null     object \n",
      " 4   Population density (people per sq. km of land area) [EN.POP.DNST]                30 non-null     float64\n",
      " 5   Adjusted net national income per capita (constant 2015 US$) [NY.ADJ.NNTY.PC.KD]  30 non-null     object \n",
      " 6   GDP per capita (constant 2015 US$) [NY.GDP.PCAP.KD]                              30 non-null     float64\n",
      "dtypes: float64(2), int64(1), object(4)\n",
      "memory usage: 1.8+ KB\n"
     ]
    }
   ],
   "source": [
    "pop_df = pop_df.rename(columns = {'Country Name': 'Country', 'Time':'Year'})\n",
    "pop_df.info()"
   ]
  },
  {
   "cell_type": "code",
   "execution_count": 130,
   "id": "1012979b",
   "metadata": {},
   "outputs": [],
   "source": [
    "pop_df = pop_df.drop(columns = ['Time Code', 'Country Code'])"
   ]
  },
  {
   "cell_type": "code",
   "execution_count": 131,
   "id": "34f8ae1e",
   "metadata": {},
   "outputs": [
    {
     "name": "stdout",
     "output_type": "stream",
     "text": [
      "<class 'pandas.core.frame.DataFrame'>\n",
      "RangeIndex: 30 entries, 0 to 29\n",
      "Data columns (total 5 columns):\n",
      " #   Column                                                                           Non-Null Count  Dtype  \n",
      "---  ------                                                                           --------------  -----  \n",
      " 0   Year                                                                             30 non-null     int64  \n",
      " 1   Country                                                                          30 non-null     object \n",
      " 2   Population density (people per sq. km of land area) [EN.POP.DNST]                30 non-null     float64\n",
      " 3   Adjusted net national income per capita (constant 2015 US$) [NY.ADJ.NNTY.PC.KD]  30 non-null     object \n",
      " 4   GDP per capita (constant 2015 US$) [NY.GDP.PCAP.KD]                              30 non-null     float64\n",
      "dtypes: float64(2), int64(1), object(2)\n",
      "memory usage: 1.3+ KB\n"
     ]
    }
   ],
   "source": [
    "pop_df.info()"
   ]
  },
  {
   "cell_type": "code",
   "execution_count": 132,
   "id": "c460d94b",
   "metadata": {},
   "outputs": [
    {
     "data": {
      "text/plain": [
       "2014    10\n",
       "2015    10\n",
       "2016    10\n",
       "Name: Year, dtype: int64"
      ]
     },
     "execution_count": 132,
     "metadata": {},
     "output_type": "execute_result"
    }
   ],
   "source": [
    "pop_df.Year.value_counts()"
   ]
  },
  {
   "cell_type": "code",
   "execution_count": 133,
   "id": "6dfaae06",
   "metadata": {},
   "outputs": [
    {
     "data": {
      "text/html": [
       "<div>\n",
       "<style scoped>\n",
       "    .dataframe tbody tr th:only-of-type {\n",
       "        vertical-align: middle;\n",
       "    }\n",
       "\n",
       "    .dataframe tbody tr th {\n",
       "        vertical-align: top;\n",
       "    }\n",
       "\n",
       "    .dataframe thead th {\n",
       "        text-align: right;\n",
       "    }\n",
       "</style>\n",
       "<table border=\"1\" class=\"dataframe\">\n",
       "  <thead>\n",
       "    <tr style=\"text-align: right;\">\n",
       "      <th></th>\n",
       "      <th>Year</th>\n",
       "      <th>Country</th>\n",
       "      <th>Population density (people per sq. km of land area) [EN.POP.DNST]</th>\n",
       "      <th>Adjusted net national income per capita (constant 2015 US$) [NY.ADJ.NNTY.PC.KD]</th>\n",
       "      <th>GDP per capita (constant 2015 US$) [NY.GDP.PCAP.KD]</th>\n",
       "    </tr>\n",
       "  </thead>\n",
       "  <tbody>\n",
       "    <tr>\n",
       "      <th>25</th>\n",
       "      <td>2016</td>\n",
       "      <td>Sierra Leone</td>\n",
       "      <td>101.535689</td>\n",
       "      <td>446.596210601579</td>\n",
       "      <td>610.490056</td>\n",
       "    </tr>\n",
       "    <tr>\n",
       "      <th>26</th>\n",
       "      <td>2016</td>\n",
       "      <td>Nigeria</td>\n",
       "      <td>204.179150</td>\n",
       "      <td>2080.91911470735</td>\n",
       "      <td>2575.455449</td>\n",
       "    </tr>\n",
       "    <tr>\n",
       "      <th>27</th>\n",
       "      <td>2016</td>\n",
       "      <td>Senegal</td>\n",
       "      <td>77.876248</td>\n",
       "      <td>1121.33974257948</td>\n",
       "      <td>1261.009472</td>\n",
       "    </tr>\n",
       "    <tr>\n",
       "      <th>28</th>\n",
       "      <td>2016</td>\n",
       "      <td>Spain</td>\n",
       "      <td>93.049263</td>\n",
       "      <td>22569.3506592936</td>\n",
       "      <td>26500.313901</td>\n",
       "    </tr>\n",
       "    <tr>\n",
       "      <th>29</th>\n",
       "      <td>2016</td>\n",
       "      <td>Mali</td>\n",
       "      <td>14.723484</td>\n",
       "      <td>668.009484727266</td>\n",
       "      <td>772.131839</td>\n",
       "    </tr>\n",
       "  </tbody>\n",
       "</table>\n",
       "</div>"
      ],
      "text/plain": [
       "    Year       Country  \\\n",
       "25  2016  Sierra Leone   \n",
       "26  2016       Nigeria   \n",
       "27  2016       Senegal   \n",
       "28  2016         Spain   \n",
       "29  2016          Mali   \n",
       "\n",
       "    Population density (people per sq. km of land area) [EN.POP.DNST]  \\\n",
       "25                                         101.535689                   \n",
       "26                                         204.179150                   \n",
       "27                                          77.876248                   \n",
       "28                                          93.049263                   \n",
       "29                                          14.723484                   \n",
       "\n",
       "   Adjusted net national income per capita (constant 2015 US$) [NY.ADJ.NNTY.PC.KD]  \\\n",
       "25                                   446.596210601579                                \n",
       "26                                   2080.91911470735                                \n",
       "27                                   1121.33974257948                                \n",
       "28                                   22569.3506592936                                \n",
       "29                                   668.009484727266                                \n",
       "\n",
       "    GDP per capita (constant 2015 US$) [NY.GDP.PCAP.KD]  \n",
       "25                                         610.490056    \n",
       "26                                        2575.455449    \n",
       "27                                        1261.009472    \n",
       "28                                       26500.313901    \n",
       "29                                         772.131839    "
      ]
     },
     "execution_count": 133,
     "metadata": {},
     "output_type": "execute_result"
    }
   ],
   "source": [
    "pop_df.tail()"
   ]
  },
  {
   "cell_type": "code",
   "execution_count": 134,
   "id": "ad65e3cb",
   "metadata": {},
   "outputs": [],
   "source": [
    "pop_df['Year'] = pop_df['Year'].astype('int64')"
   ]
  },
  {
   "cell_type": "code",
   "execution_count": 135,
   "id": "d79b7fec",
   "metadata": {},
   "outputs": [
    {
     "name": "stdout",
     "output_type": "stream",
     "text": [
      "<class 'pandas.core.frame.DataFrame'>\n",
      "Int64Index: 2590 entries, 0 to 2589\n",
      "Data columns (total 7 columns):\n",
      " #   Column                                                                           Non-Null Count  Dtype  \n",
      "---  ------                                                                           --------------  -----  \n",
      " 0   Country                                                                          2590 non-null   object \n",
      " 1   Date                                                                             2590 non-null   object \n",
      " 2   Cases                                                                            2590 non-null   float64\n",
      " 3   Year                                                                             2590 non-null   int64  \n",
      " 4   Population density (people per sq. km of land area) [EN.POP.DNST]                2590 non-null   float64\n",
      " 5   Adjusted net national income per capita (constant 2015 US$) [NY.ADJ.NNTY.PC.KD]  2590 non-null   object \n",
      " 6   GDP per capita (constant 2015 US$) [NY.GDP.PCAP.KD]                              2590 non-null   float64\n",
      "dtypes: float64(3), int64(1), object(3)\n",
      "memory usage: 161.9+ KB\n"
     ]
    }
   ],
   "source": [
    "merged_df = ebola_df.merge(pop_df, on = ['Country', 'Year'], how = 'inner')\n",
    "merged_df.info()"
   ]
  },
  {
   "cell_type": "code",
   "execution_count": 136,
   "id": "09970d3d",
   "metadata": {},
   "outputs": [
    {
     "data": {
      "text/html": [
       "<div>\n",
       "<style scoped>\n",
       "    .dataframe tbody tr th:only-of-type {\n",
       "        vertical-align: middle;\n",
       "    }\n",
       "\n",
       "    .dataframe tbody tr th {\n",
       "        vertical-align: top;\n",
       "    }\n",
       "\n",
       "    .dataframe thead th {\n",
       "        text-align: right;\n",
       "    }\n",
       "</style>\n",
       "<table border=\"1\" class=\"dataframe\">\n",
       "  <thead>\n",
       "    <tr style=\"text-align: right;\">\n",
       "      <th></th>\n",
       "      <th>Country</th>\n",
       "      <th>Date</th>\n",
       "      <th>Cases</th>\n",
       "      <th>Year</th>\n",
       "      <th>Population density (people per sq. km of land area) [EN.POP.DNST]</th>\n",
       "      <th>Adjusted net national income per capita (constant 2015 US$) [NY.ADJ.NNTY.PC.KD]</th>\n",
       "      <th>GDP per capita (constant 2015 US$) [NY.GDP.PCAP.KD]</th>\n",
       "    </tr>\n",
       "  </thead>\n",
       "  <tbody>\n",
       "    <tr>\n",
       "      <th>0</th>\n",
       "      <td>Guinea</td>\n",
       "      <td>2015-03-10</td>\n",
       "      <td>3285.0</td>\n",
       "      <td>2015</td>\n",
       "      <td>46.52489</td>\n",
       "      <td>619.473480041721</td>\n",
       "      <td>769.255475</td>\n",
       "    </tr>\n",
       "    <tr>\n",
       "      <th>1</th>\n",
       "      <td>Guinea</td>\n",
       "      <td>2015-03-06</td>\n",
       "      <td>3248.0</td>\n",
       "      <td>2015</td>\n",
       "      <td>46.52489</td>\n",
       "      <td>619.473480041721</td>\n",
       "      <td>769.255475</td>\n",
       "    </tr>\n",
       "    <tr>\n",
       "      <th>2</th>\n",
       "      <td>Guinea</td>\n",
       "      <td>2015-03-05</td>\n",
       "      <td>3237.0</td>\n",
       "      <td>2015</td>\n",
       "      <td>46.52489</td>\n",
       "      <td>619.473480041721</td>\n",
       "      <td>769.255475</td>\n",
       "    </tr>\n",
       "    <tr>\n",
       "      <th>3</th>\n",
       "      <td>Guinea</td>\n",
       "      <td>2015-03-04</td>\n",
       "      <td>3205.0</td>\n",
       "      <td>2015</td>\n",
       "      <td>46.52489</td>\n",
       "      <td>619.473480041721</td>\n",
       "      <td>769.255475</td>\n",
       "    </tr>\n",
       "    <tr>\n",
       "      <th>4</th>\n",
       "      <td>Guinea</td>\n",
       "      <td>2015-03-02</td>\n",
       "      <td>3205.0</td>\n",
       "      <td>2015</td>\n",
       "      <td>46.52489</td>\n",
       "      <td>619.473480041721</td>\n",
       "      <td>769.255475</td>\n",
       "    </tr>\n",
       "  </tbody>\n",
       "</table>\n",
       "</div>"
      ],
      "text/plain": [
       "  Country        Date   Cases  Year  \\\n",
       "0  Guinea  2015-03-10  3285.0  2015   \n",
       "1  Guinea  2015-03-06  3248.0  2015   \n",
       "2  Guinea  2015-03-05  3237.0  2015   \n",
       "3  Guinea  2015-03-04  3205.0  2015   \n",
       "4  Guinea  2015-03-02  3205.0  2015   \n",
       "\n",
       "   Population density (people per sq. km of land area) [EN.POP.DNST]  \\\n",
       "0                                           46.52489                   \n",
       "1                                           46.52489                   \n",
       "2                                           46.52489                   \n",
       "3                                           46.52489                   \n",
       "4                                           46.52489                   \n",
       "\n",
       "  Adjusted net national income per capita (constant 2015 US$) [NY.ADJ.NNTY.PC.KD]  \\\n",
       "0                                   619.473480041721                                \n",
       "1                                   619.473480041721                                \n",
       "2                                   619.473480041721                                \n",
       "3                                   619.473480041721                                \n",
       "4                                   619.473480041721                                \n",
       "\n",
       "   GDP per capita (constant 2015 US$) [NY.GDP.PCAP.KD]  \n",
       "0                                         769.255475    \n",
       "1                                         769.255475    \n",
       "2                                         769.255475    \n",
       "3                                         769.255475    \n",
       "4                                         769.255475    "
      ]
     },
     "execution_count": 136,
     "metadata": {},
     "output_type": "execute_result"
    }
   ],
   "source": [
    "merged_df.head()"
   ]
  },
  {
   "cell_type": "code",
   "execution_count": 137,
   "id": "0ab6808e",
   "metadata": {},
   "outputs": [],
   "source": [
    "merged_df = merged_df.rename(columns = {'Population density (people per sq. km of land area) [EN.POP.DNST]': 'Pop_den', 'Adjusted net national income per capita (constant 2015 US$) [NY.ADJ.NNTY.PC.KD]': 'GNI_per_cap', 'GDP per capita (constant 2015 US$) [NY.GDP.PCAP.KD]': 'GDP_per_cap'})"
   ]
  },
  {
   "cell_type": "code",
   "execution_count": 138,
   "id": "f58fa649",
   "metadata": {},
   "outputs": [
    {
     "name": "stdout",
     "output_type": "stream",
     "text": [
      "<class 'pandas.core.frame.DataFrame'>\n",
      "Int64Index: 2590 entries, 0 to 2589\n",
      "Data columns (total 7 columns):\n",
      " #   Column       Non-Null Count  Dtype  \n",
      "---  ------       --------------  -----  \n",
      " 0   Country      2590 non-null   object \n",
      " 1   Date         2590 non-null   object \n",
      " 2   Cases        2590 non-null   float64\n",
      " 3   Year         2590 non-null   int64  \n",
      " 4   Pop_den      2590 non-null   float64\n",
      " 5   GNI_per_cap  2590 non-null   object \n",
      " 6   GDP_per_cap  2590 non-null   float64\n",
      "dtypes: float64(3), int64(1), object(3)\n",
      "memory usage: 161.9+ KB\n"
     ]
    }
   ],
   "source": [
    "merged_df.info()"
   ]
  },
  {
   "cell_type": "code",
   "execution_count": 139,
   "id": "3e8aa53f",
   "metadata": {},
   "outputs": [],
   "source": [
    "merged_df['Month'] = pd.DatetimeIndex(ebola_df['Date']).month"
   ]
  },
  {
   "cell_type": "code",
   "execution_count": 140,
   "id": "905192d9",
   "metadata": {},
   "outputs": [
    {
     "data": {
      "text/plain": [
       "9     300\n",
       "10    270\n",
       "12    240\n",
       "7     230\n",
       "8     220\n",
       "6     220\n",
       "1     210\n",
       "5     210\n",
       "3     180\n",
       "2     180\n",
       "11    180\n",
       "4     150\n",
       "Name: Month, dtype: int64"
      ]
     },
     "execution_count": 140,
     "metadata": {},
     "output_type": "execute_result"
    }
   ],
   "source": [
    "merged_df.Month.value_counts()"
   ]
  },
  {
   "cell_type": "code",
   "execution_count": 141,
   "id": "086a8100",
   "metadata": {},
   "outputs": [
    {
     "data": {
      "text/plain": [
       "2015    2200\n",
       "2014     380\n",
       "2016      10\n",
       "Name: Year, dtype: int64"
      ]
     },
     "execution_count": 141,
     "metadata": {},
     "output_type": "execute_result"
    }
   ],
   "source": [
    "merged_df.Year.value_counts()"
   ]
  },
  {
   "cell_type": "code",
   "execution_count": 142,
   "id": "9239a240",
   "metadata": {},
   "outputs": [
    {
     "data": {
      "text/plain": [
       "array(['Guinea', 'Liberia', 'Sierra Leone', 'United Kingdom', 'Mali',\n",
       "       'Nigeria', 'Senegal', 'Spain', 'United States', 'Italy'],\n",
       "      dtype=object)"
      ]
     },
     "execution_count": 142,
     "metadata": {},
     "output_type": "execute_result"
    }
   ],
   "source": [
    "merged_df.Country.unique()"
   ]
  },
  {
   "cell_type": "code",
   "execution_count": 143,
   "id": "162eaa67",
   "metadata": {},
   "outputs": [
    {
     "data": {
      "text/html": [
       "<div>\n",
       "<style scoped>\n",
       "    .dataframe tbody tr th:only-of-type {\n",
       "        vertical-align: middle;\n",
       "    }\n",
       "\n",
       "    .dataframe tbody tr th {\n",
       "        vertical-align: top;\n",
       "    }\n",
       "\n",
       "    .dataframe thead th {\n",
       "        text-align: right;\n",
       "    }\n",
       "</style>\n",
       "<table border=\"1\" class=\"dataframe\">\n",
       "  <thead>\n",
       "    <tr style=\"text-align: right;\">\n",
       "      <th></th>\n",
       "      <th>Country</th>\n",
       "      <th>Date</th>\n",
       "      <th>Cases</th>\n",
       "      <th>Year</th>\n",
       "      <th>Pop_den</th>\n",
       "      <th>GNI_per_cap</th>\n",
       "      <th>GDP_per_cap</th>\n",
       "      <th>Month</th>\n",
       "    </tr>\n",
       "  </thead>\n",
       "  <tbody>\n",
       "    <tr>\n",
       "      <th>2504</th>\n",
       "      <td>Guinea</td>\n",
       "      <td>2016-03-23</td>\n",
       "      <td>3804.0</td>\n",
       "      <td>2016</td>\n",
       "      <td>47.771586</td>\n",
       "      <td>649.121373665209</td>\n",
       "      <td>830.246164</td>\n",
       "      <td>10</td>\n",
       "    </tr>\n",
       "    <tr>\n",
       "      <th>2505</th>\n",
       "      <td>Liberia</td>\n",
       "      <td>2016-03-23</td>\n",
       "      <td>10666.0</td>\n",
       "      <td>2016</td>\n",
       "      <td>47.620307</td>\n",
       "      <td>..</td>\n",
       "      <td>692.618889</td>\n",
       "      <td>10</td>\n",
       "    </tr>\n",
       "    <tr>\n",
       "      <th>2506</th>\n",
       "      <td>Sierra Leone</td>\n",
       "      <td>2016-03-23</td>\n",
       "      <td>14122.0</td>\n",
       "      <td>2016</td>\n",
       "      <td>101.535689</td>\n",
       "      <td>446.596210601579</td>\n",
       "      <td>610.490056</td>\n",
       "      <td>10</td>\n",
       "    </tr>\n",
       "    <tr>\n",
       "      <th>2507</th>\n",
       "      <td>Italy</td>\n",
       "      <td>2016-03-23</td>\n",
       "      <td>1.0</td>\n",
       "      <td>2016</td>\n",
       "      <td>205.017950</td>\n",
       "      <td>25484.3060160314</td>\n",
       "      <td>30685.645899</td>\n",
       "      <td>10</td>\n",
       "    </tr>\n",
       "    <tr>\n",
       "      <th>2508</th>\n",
       "      <td>United Kingdom</td>\n",
       "      <td>2016-03-23</td>\n",
       "      <td>1.0</td>\n",
       "      <td>2016</td>\n",
       "      <td>271.200732</td>\n",
       "      <td>38028.8795974965</td>\n",
       "      <td>46081.715288</td>\n",
       "      <td>9</td>\n",
       "    </tr>\n",
       "    <tr>\n",
       "      <th>2509</th>\n",
       "      <td>Mali</td>\n",
       "      <td>2016-03-23</td>\n",
       "      <td>8.0</td>\n",
       "      <td>2016</td>\n",
       "      <td>14.723484</td>\n",
       "      <td>668.009484727266</td>\n",
       "      <td>772.131839</td>\n",
       "      <td>9</td>\n",
       "    </tr>\n",
       "    <tr>\n",
       "      <th>2510</th>\n",
       "      <td>Nigeria</td>\n",
       "      <td>2016-03-23</td>\n",
       "      <td>20.0</td>\n",
       "      <td>2016</td>\n",
       "      <td>204.179150</td>\n",
       "      <td>2080.91911470735</td>\n",
       "      <td>2575.455449</td>\n",
       "      <td>9</td>\n",
       "    </tr>\n",
       "    <tr>\n",
       "      <th>2511</th>\n",
       "      <td>Senegal</td>\n",
       "      <td>2016-03-23</td>\n",
       "      <td>1.0</td>\n",
       "      <td>2016</td>\n",
       "      <td>77.876248</td>\n",
       "      <td>1121.33974257948</td>\n",
       "      <td>1261.009472</td>\n",
       "      <td>9</td>\n",
       "    </tr>\n",
       "    <tr>\n",
       "      <th>2512</th>\n",
       "      <td>Spain</td>\n",
       "      <td>2016-03-23</td>\n",
       "      <td>1.0</td>\n",
       "      <td>2016</td>\n",
       "      <td>93.049263</td>\n",
       "      <td>22569.3506592936</td>\n",
       "      <td>26500.313901</td>\n",
       "      <td>9</td>\n",
       "    </tr>\n",
       "    <tr>\n",
       "      <th>2513</th>\n",
       "      <td>United States</td>\n",
       "      <td>2016-03-23</td>\n",
       "      <td>4.0</td>\n",
       "      <td>2016</td>\n",
       "      <td>35.318347</td>\n",
       "      <td>49147.3629167</td>\n",
       "      <td>57292.538783</td>\n",
       "      <td>9</td>\n",
       "    </tr>\n",
       "  </tbody>\n",
       "</table>\n",
       "</div>"
      ],
      "text/plain": [
       "             Country        Date    Cases  Year     Pop_den       GNI_per_cap  \\\n",
       "2504          Guinea  2016-03-23   3804.0  2016   47.771586  649.121373665209   \n",
       "2505         Liberia  2016-03-23  10666.0  2016   47.620307                ..   \n",
       "2506    Sierra Leone  2016-03-23  14122.0  2016  101.535689  446.596210601579   \n",
       "2507           Italy  2016-03-23      1.0  2016  205.017950  25484.3060160314   \n",
       "2508  United Kingdom  2016-03-23      1.0  2016  271.200732  38028.8795974965   \n",
       "2509            Mali  2016-03-23      8.0  2016   14.723484  668.009484727266   \n",
       "2510         Nigeria  2016-03-23     20.0  2016  204.179150  2080.91911470735   \n",
       "2511         Senegal  2016-03-23      1.0  2016   77.876248  1121.33974257948   \n",
       "2512           Spain  2016-03-23      1.0  2016   93.049263  22569.3506592936   \n",
       "2513   United States  2016-03-23      4.0  2016   35.318347     49147.3629167   \n",
       "\n",
       "       GDP_per_cap  Month  \n",
       "2504    830.246164     10  \n",
       "2505    692.618889     10  \n",
       "2506    610.490056     10  \n",
       "2507  30685.645899     10  \n",
       "2508  46081.715288      9  \n",
       "2509    772.131839      9  \n",
       "2510   2575.455449      9  \n",
       "2511   1261.009472      9  \n",
       "2512  26500.313901      9  \n",
       "2513  57292.538783      9  "
      ]
     },
     "execution_count": 143,
     "metadata": {},
     "output_type": "execute_result"
    }
   ],
   "source": [
    "merged_df[merged_df['Year'] == 2016].head(20)"
   ]
  },
  {
   "cell_type": "code",
   "execution_count": 144,
   "id": "dfc226ea",
   "metadata": {},
   "outputs": [],
   "source": [
    "dates = merged_df.Date.value_counts()"
   ]
  },
  {
   "cell_type": "code",
   "execution_count": 145,
   "id": "530861e7",
   "metadata": {},
   "outputs": [
    {
     "data": {
      "text/plain": [
       "2015-03-10    10\n",
       "2015-10-27    10\n",
       "2015-09-09    10\n",
       "2015-09-10    10\n",
       "2015-09-11    10\n",
       "              ..\n",
       "2015-05-29    10\n",
       "2015-06-01    10\n",
       "2015-06-02    10\n",
       "2015-06-03    10\n",
       "2016-03-23    10\n",
       "Name: Date, Length: 259, dtype: int64"
      ]
     },
     "execution_count": 145,
     "metadata": {},
     "output_type": "execute_result"
    }
   ],
   "source": [
    "dates"
   ]
  },
  {
   "cell_type": "code",
   "execution_count": 146,
   "id": "0728f54b",
   "metadata": {},
   "outputs": [],
   "source": [
    "merged_df.to_csv('ebola_population.csv')"
   ]
  },
  {
   "cell_type": "markdown",
   "id": "b3558a78-f97f-432f-bc88-3e52d03b0bf4",
   "metadata": {},
   "source": [
    "## 2) Same, but do not fill empty months with 0s"
   ]
  },
  {
   "cell_type": "code",
   "execution_count": 12,
   "id": "a5497783-3442-463d-8591-9a95db615301",
   "metadata": {},
   "outputs": [],
   "source": [
    "ebola_df = pd.read_csv('ebola_data_db_format.csv')\n",
    "pop_df = pd.read_csv('population_income_data.csv').head(30)"
   ]
  },
  {
   "cell_type": "code",
   "execution_count": 13,
   "id": "7895618c-1a53-4c0d-b243-db85aa398859",
   "metadata": {},
   "outputs": [],
   "source": [
    "ebola_df = ebola_df[~ebola_df['Country'].isin(['Liberia 2', 'Guinea 2'])]\n",
    "ebola_df = ebola_df[ebola_df['Indicator']=='Cumulative number of confirmed, probable and suspected Ebola cases']\n",
    "ebola_df['Country'] = ebola_df['Country'].replace(['United States of America'], 'United States')"
   ]
  },
  {
   "cell_type": "code",
   "execution_count": 14,
   "id": "171d54f9-fe95-42e2-8505-1b92d4ed3ecc",
   "metadata": {},
   "outputs": [],
   "source": [
    "ebola_df = ebola_df.drop(columns= ['Indicator'])\n",
    "ebola_df = ebola_df.rename(columns = {'value': 'Cases'})"
   ]
  },
  {
   "cell_type": "code",
   "execution_count": 15,
   "id": "5fbc8b68-64ff-419f-a51e-08114a767f31",
   "metadata": {},
   "outputs": [],
   "source": [
    "ebola_df['Year'] = pd.DatetimeIndex(ebola_df['Date']).year\n",
    "\n",
    "pop_df = pop_df.rename(columns = {'Country Name': 'Country', 'Time':'Year'})\n",
    "pop_df = pop_df.drop(columns = ['Time Code', 'Country Code'])\n",
    "pop_df['Year'] = pop_df['Year'].astype('int64')\n"
   ]
  },
  {
   "cell_type": "code",
   "execution_count": 17,
   "id": "9f516c3e-64c5-4298-a687-601da4bec844",
   "metadata": {},
   "outputs": [
    {
     "name": "stdout",
     "output_type": "stream",
     "text": [
      "<class 'pandas.core.frame.DataFrame'>\n",
      "Int64Index: 2371 entries, 0 to 2370\n",
      "Data columns (total 7 columns):\n",
      " #   Column                                                                           Non-Null Count  Dtype  \n",
      "---  ------                                                                           --------------  -----  \n",
      " 0   Country                                                                          2371 non-null   object \n",
      " 1   Date                                                                             2371 non-null   object \n",
      " 2   Cases                                                                            2371 non-null   float64\n",
      " 3   Year                                                                             2371 non-null   int64  \n",
      " 4   Population density (people per sq. km of land area) [EN.POP.DNST]                2371 non-null   float64\n",
      " 5   Adjusted net national income per capita (constant 2015 US$) [NY.ADJ.NNTY.PC.KD]  2371 non-null   object \n",
      " 6   GDP per capita (constant 2015 US$) [NY.GDP.PCAP.KD]                              2371 non-null   float64\n",
      "dtypes: float64(3), int64(1), object(3)\n",
      "memory usage: 148.2+ KB\n"
     ]
    }
   ],
   "source": [
    "merged_df = ebola_df.merge(pop_df, on = ['Country', 'Year'], how = 'inner')\n",
    "merged_df.info()"
   ]
  },
  {
   "cell_type": "code",
   "execution_count": 18,
   "id": "c99fdcba-1411-4f24-a246-895cf14bd1d4",
   "metadata": {},
   "outputs": [],
   "source": [
    "merged_df = merged_df.rename(columns = {'Population density (people per sq. km of land area) [EN.POP.DNST]': 'Pop_den', 'Adjusted net national income per capita (constant 2015 US$) [NY.ADJ.NNTY.PC.KD]': 'GNI_per_cap', 'GDP per capita (constant 2015 US$) [NY.GDP.PCAP.KD]': 'GDP_per_cap'})"
   ]
  },
  {
   "cell_type": "code",
   "execution_count": 19,
   "id": "c181edde-b2eb-4c56-9539-9c5181becdf5",
   "metadata": {},
   "outputs": [
    {
     "name": "stdout",
     "output_type": "stream",
     "text": [
      "<class 'pandas.core.frame.DataFrame'>\n",
      "Int64Index: 2371 entries, 0 to 2370\n",
      "Data columns (total 7 columns):\n",
      " #   Column       Non-Null Count  Dtype  \n",
      "---  ------       --------------  -----  \n",
      " 0   Country      2371 non-null   object \n",
      " 1   Date         2371 non-null   object \n",
      " 2   Cases        2371 non-null   float64\n",
      " 3   Year         2371 non-null   int64  \n",
      " 4   Pop_den      2371 non-null   float64\n",
      " 5   GNI_per_cap  2371 non-null   object \n",
      " 6   GDP_per_cap  2371 non-null   float64\n",
      "dtypes: float64(3), int64(1), object(3)\n",
      "memory usage: 148.2+ KB\n"
     ]
    }
   ],
   "source": [
    "merged_df.info()"
   ]
  },
  {
   "cell_type": "code",
   "execution_count": 20,
   "id": "cf71010e-9c53-495e-ac1a-0cf6f01e6052",
   "metadata": {},
   "outputs": [],
   "source": [
    "merged_df = merged_df.drop(columns = 'GNI_per_cap')"
   ]
  },
  {
   "cell_type": "code",
   "execution_count": 21,
   "id": "7307901c-5828-4409-9c0c-ba641119fb6b",
   "metadata": {},
   "outputs": [
    {
     "data": {
      "text/plain": [
       "Guinea            259\n",
       "Liberia           259\n",
       "Sierra Leone      259\n",
       "Nigeria           255\n",
       "Senegal           254\n",
       "United States     245\n",
       "Spain             243\n",
       "Mali              239\n",
       "United Kingdom    217\n",
       "Italy             141\n",
       "Name: Country, dtype: int64"
      ]
     },
     "execution_count": 21,
     "metadata": {},
     "output_type": "execute_result"
    }
   ],
   "source": [
    "merged_df.Country.value_counts()"
   ]
  },
  {
   "cell_type": "code",
   "execution_count": 22,
   "id": "ee40aecf-2dd9-4f75-8e02-c5f1e71809ae",
   "metadata": {},
   "outputs": [],
   "source": [
    "groups = merged_df.groupby('Country')"
   ]
  },
  {
   "cell_type": "code",
   "execution_count": 25,
   "id": "9724a2e5-cb34-4a5f-a5d4-7463ee3c1bff",
   "metadata": {},
   "outputs": [
    {
     "name": "stdout",
     "output_type": "stream",
     "text": [
      "  Country        Date   Cases  Year   Pop_den  GDP_per_cap\n",
      "0  Guinea  2015-03-10  3285.0  2015  46.52489   769.255475\n",
      "1  Guinea  2015-03-06  3248.0  2015  46.52489   769.255475\n",
      "2  Guinea  2015-03-05  3237.0  2015  46.52489   769.255475\n",
      "3  Guinea  2015-03-04  3205.0  2015  46.52489   769.255475\n",
      "4  Guinea  2015-03-02  3205.0  2015  46.52489   769.255475\n",
      "     Country        Date  Cases  Year     Pop_den   GDP_per_cap\n",
      "2221   Italy  2015-05-15    1.0  2015  205.366538  30242.386135\n",
      "2222   Italy  2015-05-14    1.0  2015  205.366538  30242.386135\n",
      "2223   Italy  2015-05-19    1.0  2015  205.366538  30242.386135\n",
      "2224   Italy  2015-05-18    1.0  2015  205.366538  30242.386135\n",
      "2225   Italy  2015-05-20    1.0  2015  205.366538  30242.386135\n",
      "     Country        Date   Cases  Year    Pop_den  GDP_per_cap\n",
      "220  Liberia  2015-03-10  9343.0  2015  46.430949   721.581051\n",
      "221  Liberia  2015-03-06  9249.0  2015  46.430949   721.581051\n",
      "222  Liberia  2015-03-05  9249.0  2015  46.430949   721.581051\n",
      "223  Liberia  2015-03-04  9265.0  2015  46.430949   721.581051\n",
      "224  Liberia  2015-03-02  9265.0  2015  46.430949   721.581051\n",
      "    Country        Date  Cases  Year   Pop_den  GDP_per_cap\n",
      "876    Mali  2015-03-10    8.0  2015  14.29185   751.472889\n",
      "877    Mali  2015-03-06    8.0  2015  14.29185   751.472889\n",
      "878    Mali  2015-03-05    8.0  2015  14.29185   751.472889\n",
      "879    Mali  2015-03-04    8.0  2015  14.29185   751.472889\n",
      "880    Mali  2015-03-02    8.0  2015  14.29185   751.472889\n",
      "      Country        Date  Cases  Year     Pop_den  GDP_per_cap\n",
      "1092  Nigeria  2015-03-10   20.0  2015  198.883861  2687.480056\n",
      "1093  Nigeria  2015-03-06   20.0  2015  198.883861  2687.480056\n",
      "1094  Nigeria  2015-03-05   20.0  2015  198.883861  2687.480056\n",
      "1095  Nigeria  2015-03-04   20.0  2015  198.883861  2687.480056\n",
      "1096  Nigeria  2015-03-02   20.0  2015  198.883861  2687.480056\n",
      "      Country        Date  Cases  Year    Pop_den  GDP_per_cap\n",
      "1308  Senegal  2015-03-10    1.0  2015  75.720407  1219.249415\n",
      "1309  Senegal  2015-03-06    1.0  2015  75.720407  1219.249415\n",
      "1310  Senegal  2015-03-05    1.0  2015  75.720407  1219.249415\n",
      "1311  Senegal  2015-03-04    1.0  2015  75.720407  1219.249415\n",
      "1312  Senegal  2015-03-02    1.0  2015  75.720407  1219.249415\n",
      "          Country        Date    Cases  Year    Pop_den  GDP_per_cap\n",
      "440  Sierra Leone  2015-03-10  11619.0  2015  99.361444   588.228863\n",
      "441  Sierra Leone  2015-03-06  11517.0  2015  99.361444   588.228863\n",
      "442  Sierra Leone  2015-03-05  11497.0  2015  99.361444   588.228863\n",
      "443  Sierra Leone  2015-03-04  11443.0  2015  99.361444   588.228863\n",
      "444  Sierra Leone  2015-03-02  11443.0  2015  99.361444   588.228863\n",
      "     Country        Date  Cases  Year    Pop_den   GDP_per_cap\n",
      "1524   Spain  2015-03-10    1.0  2015  92.952686  25742.368835\n",
      "1525   Spain  2015-03-06    1.0  2015  92.952686  25742.368835\n",
      "1526   Spain  2015-03-05    1.0  2015  92.952686  25742.368835\n",
      "1527   Spain  2015-03-04    1.0  2015  92.952686  25742.368835\n",
      "1528   Spain  2015-03-02    1.0  2015  92.952686  25742.368835\n",
      "            Country        Date  Cases  Year     Pop_den   GDP_per_cap\n",
      "660  United Kingdom  2015-03-10    1.0  2015  269.153139  45404.567773\n",
      "661  United Kingdom  2015-03-06    1.0  2015  269.153139  45404.567773\n",
      "662  United Kingdom  2015-03-05    1.0  2015  269.153139  45404.567773\n",
      "663  United Kingdom  2015-03-04    1.0  2015  269.153139  45404.567773\n",
      "664  United Kingdom  2015-03-02    1.0  2015  269.153139  45404.567773\n",
      "            Country        Date  Cases  Year    Pop_den   GDP_per_cap\n",
      "1740  United States  2015-03-10    4.0  2015  35.063329  56762.729452\n",
      "1741  United States  2015-03-06    4.0  2015  35.063329  56762.729452\n",
      "1742  United States  2015-03-05    4.0  2015  35.063329  56762.729452\n",
      "1743  United States  2015-03-04    4.0  2015  35.063329  56762.729452\n",
      "1744  United States  2015-03-02    4.0  2015  35.063329  56762.729452\n"
     ]
    }
   ],
   "source": [
    "for i in groups: \n",
    "    print(i[1].head())"
   ]
  },
  {
   "cell_type": "code",
   "execution_count": 27,
   "id": "60877759-1d80-46dc-afb2-cf658682fc42",
   "metadata": {},
   "outputs": [],
   "source": [
    "min_date = min(pd.DatetimeIndex(merged_df['Date']))"
   ]
  },
  {
   "cell_type": "code",
   "execution_count": 28,
   "id": "a813f952-435d-415d-aabc-331646d9f1e3",
   "metadata": {},
   "outputs": [
    {
     "data": {
      "text/plain": [
       "Timestamp('2014-08-29 00:00:00')"
      ]
     },
     "execution_count": 28,
     "metadata": {},
     "output_type": "execute_result"
    }
   ],
   "source": [
    "min_date"
   ]
  },
  {
   "cell_type": "code",
   "execution_count": 32,
   "id": "f9e02e86-0b09-49c4-90a4-971e6c24c9b0",
   "metadata": {},
   "outputs": [],
   "source": [
    "merged_df['Months_diff'] = ((pd.DatetimeIndex(merged_df.Date) - min_date)/np.timedelta64(1, 'M')).astype('int')"
   ]
  },
  {
   "cell_type": "code",
   "execution_count": 35,
   "id": "58cbdad0-5d1f-45d9-9dce-368956c099f2",
   "metadata": {},
   "outputs": [],
   "source": [
    "merged_df['Months_diff'] = merged_df['Months_diff'] + 1"
   ]
  },
  {
   "cell_type": "code",
   "execution_count": 36,
   "id": "2be3a014-d389-4f99-8239-6455e4ca1230",
   "metadata": {},
   "outputs": [
    {
     "data": {
      "text/plain": [
       "11    220\n",
       "12    220\n",
       "13    210\n",
       "9     210\n",
       "10    210\n",
       "14    180\n",
       "6     180\n",
       "5     171\n",
       "7     153\n",
       "8     126\n",
       "15    120\n",
       "16    110\n",
       "4      72\n",
       "3      72\n",
       "2      53\n",
       "1      44\n",
       "17     10\n",
       "19     10\n",
       "Name: Months_diff, dtype: int64"
      ]
     },
     "execution_count": 36,
     "metadata": {},
     "output_type": "execute_result"
    }
   ],
   "source": [
    "merged_df.Months_diff.value_counts()"
   ]
  },
  {
   "cell_type": "code",
   "execution_count": 39,
   "id": "879f8be8-53bb-4373-a6d3-53a9d85a600c",
   "metadata": {},
   "outputs": [],
   "source": [
    "merged_df = merged_df.sort_values(by =['Country', 'Date'])"
   ]
  },
  {
   "cell_type": "code",
   "execution_count": 40,
   "id": "f7a0a7bf-4483-411c-b41d-b45a84946d5a",
   "metadata": {},
   "outputs": [
    {
     "data": {
      "text/html": [
       "<div>\n",
       "<style scoped>\n",
       "    .dataframe tbody tr th:only-of-type {\n",
       "        vertical-align: middle;\n",
       "    }\n",
       "\n",
       "    .dataframe tbody tr th {\n",
       "        vertical-align: top;\n",
       "    }\n",
       "\n",
       "    .dataframe thead th {\n",
       "        text-align: right;\n",
       "    }\n",
       "</style>\n",
       "<table border=\"1\" class=\"dataframe\">\n",
       "  <thead>\n",
       "    <tr style=\"text-align: right;\">\n",
       "      <th></th>\n",
       "      <th>Country</th>\n",
       "      <th>Date</th>\n",
       "      <th>Cases</th>\n",
       "      <th>Year</th>\n",
       "      <th>Pop_den</th>\n",
       "      <th>GDP_per_cap</th>\n",
       "      <th>Months_diff</th>\n",
       "    </tr>\n",
       "  </thead>\n",
       "  <tbody>\n",
       "    <tr>\n",
       "      <th>1993</th>\n",
       "      <td>Guinea</td>\n",
       "      <td>2014-08-29</td>\n",
       "      <td>648.0</td>\n",
       "      <td>2014</td>\n",
       "      <td>45.380799</td>\n",
       "      <td>759.587862</td>\n",
       "      <td>1</td>\n",
       "    </tr>\n",
       "    <tr>\n",
       "      <th>1992</th>\n",
       "      <td>Guinea</td>\n",
       "      <td>2014-09-05</td>\n",
       "      <td>812.0</td>\n",
       "      <td>2014</td>\n",
       "      <td>45.380799</td>\n",
       "      <td>759.587862</td>\n",
       "      <td>1</td>\n",
       "    </tr>\n",
       "    <tr>\n",
       "      <th>1991</th>\n",
       "      <td>Guinea</td>\n",
       "      <td>2014-09-08</td>\n",
       "      <td>862.0</td>\n",
       "      <td>2014</td>\n",
       "      <td>45.380799</td>\n",
       "      <td>759.587862</td>\n",
       "      <td>1</td>\n",
       "    </tr>\n",
       "    <tr>\n",
       "      <th>1990</th>\n",
       "      <td>Guinea</td>\n",
       "      <td>2014-09-12</td>\n",
       "      <td>861.0</td>\n",
       "      <td>2014</td>\n",
       "      <td>45.380799</td>\n",
       "      <td>759.587862</td>\n",
       "      <td>1</td>\n",
       "    </tr>\n",
       "    <tr>\n",
       "      <th>1989</th>\n",
       "      <td>Guinea</td>\n",
       "      <td>2014-09-16</td>\n",
       "      <td>936.0</td>\n",
       "      <td>2014</td>\n",
       "      <td>45.380799</td>\n",
       "      <td>759.587862</td>\n",
       "      <td>1</td>\n",
       "    </tr>\n",
       "  </tbody>\n",
       "</table>\n",
       "</div>"
      ],
      "text/plain": [
       "     Country        Date  Cases  Year    Pop_den  GDP_per_cap  Months_diff\n",
       "1993  Guinea  2014-08-29  648.0  2014  45.380799   759.587862            1\n",
       "1992  Guinea  2014-09-05  812.0  2014  45.380799   759.587862            1\n",
       "1991  Guinea  2014-09-08  862.0  2014  45.380799   759.587862            1\n",
       "1990  Guinea  2014-09-12  861.0  2014  45.380799   759.587862            1\n",
       "1989  Guinea  2014-09-16  936.0  2014  45.380799   759.587862            1"
      ]
     },
     "execution_count": 40,
     "metadata": {},
     "output_type": "execute_result"
    }
   ],
   "source": [
    "merged_df.head()"
   ]
  },
  {
   "cell_type": "code",
   "execution_count": 41,
   "id": "9bf20aee-927a-4bae-825f-162b42849b62",
   "metadata": {},
   "outputs": [
    {
     "data": {
      "text/html": [
       "<div>\n",
       "<style scoped>\n",
       "    .dataframe tbody tr th:only-of-type {\n",
       "        vertical-align: middle;\n",
       "    }\n",
       "\n",
       "    .dataframe tbody tr th {\n",
       "        vertical-align: top;\n",
       "    }\n",
       "\n",
       "    .dataframe thead th {\n",
       "        text-align: right;\n",
       "    }\n",
       "</style>\n",
       "<table border=\"1\" class=\"dataframe\">\n",
       "  <thead>\n",
       "    <tr style=\"text-align: right;\">\n",
       "      <th></th>\n",
       "      <th>Country</th>\n",
       "      <th>Date</th>\n",
       "      <th>Cases</th>\n",
       "      <th>Year</th>\n",
       "      <th>Pop_den</th>\n",
       "      <th>GDP_per_cap</th>\n",
       "      <th>Months_diff</th>\n",
       "    </tr>\n",
       "  </thead>\n",
       "  <tbody>\n",
       "    <tr>\n",
       "      <th>1952</th>\n",
       "      <td>United States</td>\n",
       "      <td>2015-12-17</td>\n",
       "      <td>4.0</td>\n",
       "      <td>2015</td>\n",
       "      <td>35.063329</td>\n",
       "      <td>56762.729452</td>\n",
       "      <td>16</td>\n",
       "    </tr>\n",
       "    <tr>\n",
       "      <th>1953</th>\n",
       "      <td>United States</td>\n",
       "      <td>2015-12-22</td>\n",
       "      <td>4.0</td>\n",
       "      <td>2015</td>\n",
       "      <td>35.063329</td>\n",
       "      <td>56762.729452</td>\n",
       "      <td>16</td>\n",
       "    </tr>\n",
       "    <tr>\n",
       "      <th>1954</th>\n",
       "      <td>United States</td>\n",
       "      <td>2015-12-23</td>\n",
       "      <td>4.0</td>\n",
       "      <td>2015</td>\n",
       "      <td>35.063329</td>\n",
       "      <td>56762.729452</td>\n",
       "      <td>16</td>\n",
       "    </tr>\n",
       "    <tr>\n",
       "      <th>1955</th>\n",
       "      <td>United States</td>\n",
       "      <td>2015-12-29</td>\n",
       "      <td>4.0</td>\n",
       "      <td>2015</td>\n",
       "      <td>35.063329</td>\n",
       "      <td>56762.729452</td>\n",
       "      <td>17</td>\n",
       "    </tr>\n",
       "    <tr>\n",
       "      <th>2370</th>\n",
       "      <td>United States</td>\n",
       "      <td>2016-03-23</td>\n",
       "      <td>4.0</td>\n",
       "      <td>2016</td>\n",
       "      <td>35.318347</td>\n",
       "      <td>57292.538783</td>\n",
       "      <td>19</td>\n",
       "    </tr>\n",
       "  </tbody>\n",
       "</table>\n",
       "</div>"
      ],
      "text/plain": [
       "            Country        Date  Cases  Year    Pop_den   GDP_per_cap  \\\n",
       "1952  United States  2015-12-17    4.0  2015  35.063329  56762.729452   \n",
       "1953  United States  2015-12-22    4.0  2015  35.063329  56762.729452   \n",
       "1954  United States  2015-12-23    4.0  2015  35.063329  56762.729452   \n",
       "1955  United States  2015-12-29    4.0  2015  35.063329  56762.729452   \n",
       "2370  United States  2016-03-23    4.0  2016  35.318347  57292.538783   \n",
       "\n",
       "      Months_diff  \n",
       "1952           16  \n",
       "1953           16  \n",
       "1954           16  \n",
       "1955           17  \n",
       "2370           19  "
      ]
     },
     "execution_count": 41,
     "metadata": {},
     "output_type": "execute_result"
    }
   ],
   "source": [
    "merged_df.tail()"
   ]
  },
  {
   "cell_type": "code",
   "execution_count": 47,
   "id": "135955ca-7869-450c-b508-f8deb8c4cd40",
   "metadata": {},
   "outputs": [],
   "source": [
    "from datetime import datetime\n",
    "from dateutil import relativedelta\n",
    "\n",
    "merged_df['Date'] = pd.to_datetime(merged_df['Date']) \n",
    "merged_df['months_diff_2'] = merged_df['Date'].apply(lambda x:  relativedelta.relativedelta(x, merged_df['Date'].min()))\n",
    "merged_df['months_diff_2'] = merged_df['months_diff_2'].apply(lambda x: 12*x.years + x.months)\n"
   ]
  },
  {
   "cell_type": "code",
   "execution_count": 48,
   "id": "87dc5fc2-07f9-452b-b258-83f09e7bd200",
   "metadata": {},
   "outputs": [
    {
     "data": {
      "text/plain": [
       "11    230\n",
       "10    220\n",
       "9     210\n",
       "12    210\n",
       "8     200\n",
       "5     180\n",
       "4     171\n",
       "13    170\n",
       "6     153\n",
       "14    130\n",
       "7     126\n",
       "15    110\n",
       "2      72\n",
       "3      72\n",
       "1      53\n",
       "0      44\n",
       "16     10\n",
       "18     10\n",
       "Name: months_diff_2, dtype: int64"
      ]
     },
     "execution_count": 48,
     "metadata": {},
     "output_type": "execute_result"
    }
   ],
   "source": [
    "merged_df.months_diff_2.value_counts()"
   ]
  },
  {
   "cell_type": "code",
   "execution_count": 53,
   "id": "8ed08fb3-a7e5-4668-8170-762ccf720ae6",
   "metadata": {},
   "outputs": [],
   "source": [
    "merged_df = merged_df.drop(columns = ['Months_diff']) "
   ]
  },
  {
   "cell_type": "code",
   "execution_count": 51,
   "id": "e4ac9686-26e8-4efd-b1d1-3702e645bbf5",
   "metadata": {},
   "outputs": [],
   "source": [
    "merged_df = merged_df.rename(columns = {'months_diff_2': 'months_diff'})"
   ]
  },
  {
   "cell_type": "code",
   "execution_count": 54,
   "id": "fdc0e680-e0e3-4db9-845f-55318d04a24c",
   "metadata": {},
   "outputs": [
    {
     "name": "stdout",
     "output_type": "stream",
     "text": [
      "<class 'pandas.core.frame.DataFrame'>\n",
      "Int64Index: 2371 entries, 1993 to 2370\n",
      "Data columns (total 7 columns):\n",
      " #   Column       Non-Null Count  Dtype         \n",
      "---  ------       --------------  -----         \n",
      " 0   Country      2371 non-null   object        \n",
      " 1   Date         2371 non-null   datetime64[ns]\n",
      " 2   Cases        2371 non-null   float64       \n",
      " 3   Year         2371 non-null   int64         \n",
      " 4   Pop_den      2371 non-null   float64       \n",
      " 5   GDP_per_cap  2371 non-null   float64       \n",
      " 6   months_diff  2371 non-null   int64         \n",
      "dtypes: datetime64[ns](1), float64(3), int64(2), object(1)\n",
      "memory usage: 148.2+ KB\n"
     ]
    }
   ],
   "source": [
    "merged_df.info()"
   ]
  },
  {
   "cell_type": "code",
   "execution_count": 55,
   "id": "0e059146-2ff8-457c-a0ce-c9c53859fc4a",
   "metadata": {},
   "outputs": [
    {
     "data": {
      "text/plain": [
       "11    230\n",
       "10    220\n",
       "9     210\n",
       "12    210\n",
       "8     200\n",
       "5     180\n",
       "4     171\n",
       "13    170\n",
       "6     153\n",
       "14    130\n",
       "7     126\n",
       "15    110\n",
       "2      72\n",
       "3      72\n",
       "1      53\n",
       "0      44\n",
       "16     10\n",
       "18     10\n",
       "Name: months_diff, dtype: int64"
      ]
     },
     "execution_count": 55,
     "metadata": {},
     "output_type": "execute_result"
    }
   ],
   "source": [
    "merged_df.months_diff.value_counts()"
   ]
  },
  {
   "cell_type": "code",
   "execution_count": 56,
   "id": "409544fa-41b5-46fe-9e1d-3403aea4ab97",
   "metadata": {},
   "outputs": [],
   "source": [
    "merged_df.to_csv('ebola_population_with_missings.csv', index = False)"
   ]
  },
  {
   "cell_type": "markdown",
   "id": "b2d138e6-5564-4174-8992-374a52a58908",
   "metadata": {},
   "source": [
    "## Aggregating my month_diff and country \n",
    "\n",
    "For each country, we aggregate by month the number of cases"
   ]
  },
  {
   "cell_type": "code",
   "execution_count": 5,
   "id": "621227fe-58d8-4585-bdc9-053cd001dfe5",
   "metadata": {},
   "outputs": [],
   "source": [
    "merged_md = pd.read_csv('ebola_population_with_missings.csv')"
   ]
  },
  {
   "cell_type": "code",
   "execution_count": 6,
   "id": "736f1305-ce10-4dcc-b737-ad86f0920f61",
   "metadata": {},
   "outputs": [
    {
     "data": {
      "text/html": [
       "<div>\n",
       "<style scoped>\n",
       "    .dataframe tbody tr th:only-of-type {\n",
       "        vertical-align: middle;\n",
       "    }\n",
       "\n",
       "    .dataframe tbody tr th {\n",
       "        vertical-align: top;\n",
       "    }\n",
       "\n",
       "    .dataframe thead th {\n",
       "        text-align: right;\n",
       "    }\n",
       "</style>\n",
       "<table border=\"1\" class=\"dataframe\">\n",
       "  <thead>\n",
       "    <tr style=\"text-align: right;\">\n",
       "      <th></th>\n",
       "      <th>Country</th>\n",
       "      <th>Date</th>\n",
       "      <th>Cases</th>\n",
       "      <th>Year</th>\n",
       "      <th>Pop_den</th>\n",
       "      <th>GDP_per_cap</th>\n",
       "      <th>months_diff</th>\n",
       "    </tr>\n",
       "  </thead>\n",
       "  <tbody>\n",
       "    <tr>\n",
       "      <th>2366</th>\n",
       "      <td>United States</td>\n",
       "      <td>2015-12-17</td>\n",
       "      <td>4.0</td>\n",
       "      <td>2015</td>\n",
       "      <td>35.063329</td>\n",
       "      <td>56762.729452</td>\n",
       "      <td>15</td>\n",
       "    </tr>\n",
       "    <tr>\n",
       "      <th>2367</th>\n",
       "      <td>United States</td>\n",
       "      <td>2015-12-22</td>\n",
       "      <td>4.0</td>\n",
       "      <td>2015</td>\n",
       "      <td>35.063329</td>\n",
       "      <td>56762.729452</td>\n",
       "      <td>15</td>\n",
       "    </tr>\n",
       "    <tr>\n",
       "      <th>2368</th>\n",
       "      <td>United States</td>\n",
       "      <td>2015-12-23</td>\n",
       "      <td>4.0</td>\n",
       "      <td>2015</td>\n",
       "      <td>35.063329</td>\n",
       "      <td>56762.729452</td>\n",
       "      <td>15</td>\n",
       "    </tr>\n",
       "    <tr>\n",
       "      <th>2369</th>\n",
       "      <td>United States</td>\n",
       "      <td>2015-12-29</td>\n",
       "      <td>4.0</td>\n",
       "      <td>2015</td>\n",
       "      <td>35.063329</td>\n",
       "      <td>56762.729452</td>\n",
       "      <td>16</td>\n",
       "    </tr>\n",
       "    <tr>\n",
       "      <th>2370</th>\n",
       "      <td>United States</td>\n",
       "      <td>2016-03-23</td>\n",
       "      <td>4.0</td>\n",
       "      <td>2016</td>\n",
       "      <td>35.318347</td>\n",
       "      <td>57292.538783</td>\n",
       "      <td>18</td>\n",
       "    </tr>\n",
       "  </tbody>\n",
       "</table>\n",
       "</div>"
      ],
      "text/plain": [
       "            Country        Date  Cases  Year    Pop_den   GDP_per_cap  \\\n",
       "2366  United States  2015-12-17    4.0  2015  35.063329  56762.729452   \n",
       "2367  United States  2015-12-22    4.0  2015  35.063329  56762.729452   \n",
       "2368  United States  2015-12-23    4.0  2015  35.063329  56762.729452   \n",
       "2369  United States  2015-12-29    4.0  2015  35.063329  56762.729452   \n",
       "2370  United States  2016-03-23    4.0  2016  35.318347  57292.538783   \n",
       "\n",
       "      months_diff  \n",
       "2366           15  \n",
       "2367           15  \n",
       "2368           15  \n",
       "2369           16  \n",
       "2370           18  "
      ]
     },
     "execution_count": 6,
     "metadata": {},
     "output_type": "execute_result"
    }
   ],
   "source": [
    "merged_md.tail()"
   ]
  },
  {
   "cell_type": "code",
   "execution_count": 7,
   "id": "955c6b31-409c-4aa8-b691-82c27f0ae1f7",
   "metadata": {},
   "outputs": [
    {
     "data": {
      "text/html": [
       "<div>\n",
       "<style scoped>\n",
       "    .dataframe tbody tr th:only-of-type {\n",
       "        vertical-align: middle;\n",
       "    }\n",
       "\n",
       "    .dataframe tbody tr th {\n",
       "        vertical-align: top;\n",
       "    }\n",
       "\n",
       "    .dataframe thead th {\n",
       "        text-align: right;\n",
       "    }\n",
       "</style>\n",
       "<table border=\"1\" class=\"dataframe\">\n",
       "  <thead>\n",
       "    <tr style=\"text-align: right;\">\n",
       "      <th></th>\n",
       "      <th>Country</th>\n",
       "      <th>Date</th>\n",
       "      <th>Cases</th>\n",
       "      <th>Year</th>\n",
       "      <th>Pop_den</th>\n",
       "      <th>GDP_per_cap</th>\n",
       "      <th>months_diff</th>\n",
       "    </tr>\n",
       "  </thead>\n",
       "  <tbody>\n",
       "    <tr>\n",
       "      <th>254</th>\n",
       "      <td>Guinea</td>\n",
       "      <td>2015-12-17</td>\n",
       "      <td>3805.0</td>\n",
       "      <td>2015</td>\n",
       "      <td>46.524890</td>\n",
       "      <td>769.255475</td>\n",
       "      <td>15</td>\n",
       "    </tr>\n",
       "    <tr>\n",
       "      <th>255</th>\n",
       "      <td>Guinea</td>\n",
       "      <td>2015-12-22</td>\n",
       "      <td>3804.0</td>\n",
       "      <td>2015</td>\n",
       "      <td>46.524890</td>\n",
       "      <td>769.255475</td>\n",
       "      <td>15</td>\n",
       "    </tr>\n",
       "    <tr>\n",
       "      <th>256</th>\n",
       "      <td>Guinea</td>\n",
       "      <td>2015-12-23</td>\n",
       "      <td>3804.0</td>\n",
       "      <td>2015</td>\n",
       "      <td>46.524890</td>\n",
       "      <td>769.255475</td>\n",
       "      <td>15</td>\n",
       "    </tr>\n",
       "    <tr>\n",
       "      <th>257</th>\n",
       "      <td>Guinea</td>\n",
       "      <td>2015-12-29</td>\n",
       "      <td>3804.0</td>\n",
       "      <td>2015</td>\n",
       "      <td>46.524890</td>\n",
       "      <td>769.255475</td>\n",
       "      <td>16</td>\n",
       "    </tr>\n",
       "    <tr>\n",
       "      <th>258</th>\n",
       "      <td>Guinea</td>\n",
       "      <td>2016-03-23</td>\n",
       "      <td>3804.0</td>\n",
       "      <td>2016</td>\n",
       "      <td>47.771586</td>\n",
       "      <td>830.246164</td>\n",
       "      <td>18</td>\n",
       "    </tr>\n",
       "  </tbody>\n",
       "</table>\n",
       "</div>"
      ],
      "text/plain": [
       "    Country        Date   Cases  Year    Pop_den  GDP_per_cap  months_diff\n",
       "254  Guinea  2015-12-17  3805.0  2015  46.524890   769.255475           15\n",
       "255  Guinea  2015-12-22  3804.0  2015  46.524890   769.255475           15\n",
       "256  Guinea  2015-12-23  3804.0  2015  46.524890   769.255475           15\n",
       "257  Guinea  2015-12-29  3804.0  2015  46.524890   769.255475           16\n",
       "258  Guinea  2016-03-23  3804.0  2016  47.771586   830.246164           18"
      ]
     },
     "execution_count": 7,
     "metadata": {},
     "output_type": "execute_result"
    }
   ],
   "source": [
    "merged_md[merged_md['Country']=='Guinea'].tail()"
   ]
  },
  {
   "cell_type": "code",
   "execution_count": 8,
   "id": "5564b21a-e591-4876-a9ef-7bf1320d0dbd",
   "metadata": {},
   "outputs": [
    {
     "name": "stdout",
     "output_type": "stream",
     "text": [
      "<class 'pandas.core.frame.DataFrame'>\n",
      "RangeIndex: 2371 entries, 0 to 2370\n",
      "Data columns (total 7 columns):\n",
      " #   Column       Non-Null Count  Dtype  \n",
      "---  ------       --------------  -----  \n",
      " 0   Country      2371 non-null   object \n",
      " 1   Date         2371 non-null   object \n",
      " 2   Cases        2371 non-null   float64\n",
      " 3   Year         2371 non-null   int64  \n",
      " 4   Pop_den      2371 non-null   float64\n",
      " 5   GDP_per_cap  2371 non-null   float64\n",
      " 6   months_diff  2371 non-null   int64  \n",
      "dtypes: float64(3), int64(2), object(2)\n",
      "memory usage: 129.8+ KB\n"
     ]
    }
   ],
   "source": [
    "merged_md.info()"
   ]
  },
  {
   "cell_type": "code",
   "execution_count": 9,
   "id": "e718d4c3-28db-4f58-bdae-c3511e7d49ae",
   "metadata": {},
   "outputs": [
    {
     "data": {
      "text/html": [
       "<div>\n",
       "<style scoped>\n",
       "    .dataframe tbody tr th:only-of-type {\n",
       "        vertical-align: middle;\n",
       "    }\n",
       "\n",
       "    .dataframe tbody tr th {\n",
       "        vertical-align: top;\n",
       "    }\n",
       "\n",
       "    .dataframe thead th {\n",
       "        text-align: right;\n",
       "    }\n",
       "</style>\n",
       "<table border=\"1\" class=\"dataframe\">\n",
       "  <thead>\n",
       "    <tr style=\"text-align: right;\">\n",
       "      <th></th>\n",
       "      <th>Country</th>\n",
       "      <th>months_diff</th>\n",
       "      <th>Cases</th>\n",
       "      <th>Pop_den</th>\n",
       "    </tr>\n",
       "  </thead>\n",
       "  <tbody>\n",
       "    <tr>\n",
       "      <th>0</th>\n",
       "      <td>Guinea</td>\n",
       "      <td>0</td>\n",
       "      <td>8165.0</td>\n",
       "      <td>45.380799</td>\n",
       "    </tr>\n",
       "    <tr>\n",
       "      <th>1</th>\n",
       "      <td>Guinea</td>\n",
       "      <td>1</td>\n",
       "      <td>11088.0</td>\n",
       "      <td>45.380799</td>\n",
       "    </tr>\n",
       "    <tr>\n",
       "      <th>2</th>\n",
       "      <td>Guinea</td>\n",
       "      <td>2</td>\n",
       "      <td>17013.0</td>\n",
       "      <td>45.380799</td>\n",
       "    </tr>\n",
       "    <tr>\n",
       "      <th>3</th>\n",
       "      <td>Guinea</td>\n",
       "      <td>3</td>\n",
       "      <td>21816.0</td>\n",
       "      <td>45.380799</td>\n",
       "    </tr>\n",
       "    <tr>\n",
       "      <th>4</th>\n",
       "      <td>Guinea</td>\n",
       "      <td>4</td>\n",
       "      <td>61876.0</td>\n",
       "      <td>46.368878</td>\n",
       "    </tr>\n",
       "    <tr>\n",
       "      <th>...</th>\n",
       "      <td>...</td>\n",
       "      <td>...</td>\n",
       "      <td>...</td>\n",
       "      <td>...</td>\n",
       "    </tr>\n",
       "    <tr>\n",
       "      <th>160</th>\n",
       "      <td>United States</td>\n",
       "      <td>13</td>\n",
       "      <td>68.0</td>\n",
       "      <td>35.063329</td>\n",
       "    </tr>\n",
       "    <tr>\n",
       "      <th>161</th>\n",
       "      <td>United States</td>\n",
       "      <td>14</td>\n",
       "      <td>52.0</td>\n",
       "      <td>35.063329</td>\n",
       "    </tr>\n",
       "    <tr>\n",
       "      <th>162</th>\n",
       "      <td>United States</td>\n",
       "      <td>15</td>\n",
       "      <td>44.0</td>\n",
       "      <td>35.063329</td>\n",
       "    </tr>\n",
       "    <tr>\n",
       "      <th>163</th>\n",
       "      <td>United States</td>\n",
       "      <td>16</td>\n",
       "      <td>4.0</td>\n",
       "      <td>35.063329</td>\n",
       "    </tr>\n",
       "    <tr>\n",
       "      <th>164</th>\n",
       "      <td>United States</td>\n",
       "      <td>18</td>\n",
       "      <td>4.0</td>\n",
       "      <td>35.318347</td>\n",
       "    </tr>\n",
       "  </tbody>\n",
       "</table>\n",
       "<p>165 rows × 4 columns</p>\n",
       "</div>"
      ],
      "text/plain": [
       "           Country  months_diff    Cases    Pop_den\n",
       "0           Guinea            0   8165.0  45.380799\n",
       "1           Guinea            1  11088.0  45.380799\n",
       "2           Guinea            2  17013.0  45.380799\n",
       "3           Guinea            3  21816.0  45.380799\n",
       "4           Guinea            4  61876.0  46.368878\n",
       "..             ...          ...      ...        ...\n",
       "160  United States           13     68.0  35.063329\n",
       "161  United States           14     52.0  35.063329\n",
       "162  United States           15     44.0  35.063329\n",
       "163  United States           16      4.0  35.063329\n",
       "164  United States           18      4.0  35.318347\n",
       "\n",
       "[165 rows x 4 columns]"
      ]
     },
     "execution_count": 9,
     "metadata": {},
     "output_type": "execute_result"
    }
   ],
   "source": [
    "only = merged_md[['Country', 'months_diff', 'Cases', 'Pop_den']]\n",
    "grouped = only.groupby(['Country', 'months_diff'], as_index=False).agg({'Cases':'sum', 'Pop_den':'mean'})\n",
    "grouped"
   ]
  },
  {
   "cell_type": "code",
   "execution_count": 10,
   "id": "c4ee998b-41e8-47e7-a7c9-2ad7730c4a2a",
   "metadata": {},
   "outputs": [
    {
     "data": {
      "text/plain": [
       "Guinea            18\n",
       "Liberia           18\n",
       "Nigeria           18\n",
       "Senegal           18\n",
       "Sierra Leone      18\n",
       "Mali              17\n",
       "Spain             17\n",
       "United States     17\n",
       "United Kingdom    14\n",
       "Italy             10\n",
       "Name: Country, dtype: int64"
      ]
     },
     "execution_count": 10,
     "metadata": {},
     "output_type": "execute_result"
    }
   ],
   "source": [
    "grouped.Country.value_counts()"
   ]
  },
  {
   "cell_type": "code",
   "execution_count": 13,
   "id": "80de9e21-20fa-4182-a190-dc7b85deeaeb",
   "metadata": {},
   "outputs": [],
   "source": [
    "grouped = grouped[grouped['Country']!= 'Italy']\n",
    "grouped = grouped[grouped['Country'] != 'United Kingdom']"
   ]
  },
  {
   "cell_type": "code",
   "execution_count": 14,
   "id": "6af1fea8-f2fa-4072-a14a-1c45f7ae53e3",
   "metadata": {},
   "outputs": [
    {
     "data": {
      "text/plain": [
       "Guinea           18\n",
       "Liberia          18\n",
       "Nigeria          18\n",
       "Senegal          18\n",
       "Sierra Leone     18\n",
       "Mali             17\n",
       "Spain            17\n",
       "United States    17\n",
       "Name: Country, dtype: int64"
      ]
     },
     "execution_count": 14,
     "metadata": {},
     "output_type": "execute_result"
    }
   ],
   "source": [
    "grouped.Country.value_counts()"
   ]
  },
  {
   "cell_type": "code",
   "execution_count": 16,
   "id": "5953dd4d-5f0c-463c-96c0-e5e946421d56",
   "metadata": {},
   "outputs": [
    {
     "name": "stdout",
     "output_type": "stream",
     "text": [
      "Collecting seaborn\n",
      "  Downloading seaborn-0.12.1-py3-none-any.whl (288 kB)\n",
      "     |████████████████████████████████| 288 kB 10.3 MB/s            \n",
      "\u001b[?25hRequirement already satisfied: matplotlib!=3.6.1,>=3.1 in /opt/conda/lib/python3.9/site-packages (from seaborn) (3.5.0)\n",
      "Requirement already satisfied: pandas>=0.25 in /opt/conda/lib/python3.9/site-packages (from seaborn) (1.3.4)\n",
      "Requirement already satisfied: numpy>=1.17 in /opt/conda/lib/python3.9/site-packages (from seaborn) (1.23.3)\n",
      "Requirement already satisfied: cycler>=0.10 in /opt/conda/lib/python3.9/site-packages (from matplotlib!=3.6.1,>=3.1->seaborn) (0.11.0)\n",
      "Requirement already satisfied: kiwisolver>=1.0.1 in /opt/conda/lib/python3.9/site-packages (from matplotlib!=3.6.1,>=3.1->seaborn) (1.3.2)\n",
      "Requirement already satisfied: python-dateutil>=2.7 in /opt/conda/lib/python3.9/site-packages (from matplotlib!=3.6.1,>=3.1->seaborn) (2.8.2)\n",
      "Requirement already satisfied: pyparsing>=2.2.1 in /opt/conda/lib/python3.9/site-packages (from matplotlib!=3.6.1,>=3.1->seaborn) (3.0.6)\n",
      "Requirement already satisfied: packaging>=20.0 in /opt/conda/lib/python3.9/site-packages (from matplotlib!=3.6.1,>=3.1->seaborn) (21.3)\n",
      "Requirement already satisfied: fonttools>=4.22.0 in /opt/conda/lib/python3.9/site-packages (from matplotlib!=3.6.1,>=3.1->seaborn) (4.28.2)\n",
      "Requirement already satisfied: pillow>=6.2.0 in /opt/conda/lib/python3.9/site-packages (from matplotlib!=3.6.1,>=3.1->seaborn) (8.4.0)\n",
      "Requirement already satisfied: pytz>=2017.3 in /opt/conda/lib/python3.9/site-packages (from pandas>=0.25->seaborn) (2021.3)\n",
      "Requirement already satisfied: six>=1.5 in /opt/conda/lib/python3.9/site-packages (from python-dateutil>=2.7->matplotlib!=3.6.1,>=3.1->seaborn) (1.16.0)\n",
      "Installing collected packages: seaborn\n",
      "Successfully installed seaborn-0.12.1\n"
     ]
    }
   ],
   "source": [
    "!pip install seaborn"
   ]
  },
  {
   "cell_type": "code",
   "execution_count": 18,
   "id": "bf56925f-88c8-4a0f-a042-0e62d77cd4d1",
   "metadata": {},
   "outputs": [
    {
     "ename": "NameError",
     "evalue": "name 'plt' is not defined",
     "output_type": "error",
     "traceback": [
      "\u001b[0;31m---------------------------------------------------------------------------\u001b[0m",
      "\u001b[0;31mNameError\u001b[0m                                 Traceback (most recent call last)",
      "\u001b[0;32m/tmp/ipykernel_1422/3737533504.py\u001b[0m in \u001b[0;36m<module>\u001b[0;34m\u001b[0m\n\u001b[1;32m      1\u001b[0m \u001b[0;32mimport\u001b[0m \u001b[0mseaborn\u001b[0m \u001b[0;32mas\u001b[0m \u001b[0msns\u001b[0m\u001b[0;34m\u001b[0m\u001b[0;34m\u001b[0m\u001b[0m\n\u001b[1;32m      2\u001b[0m \u001b[0msns\u001b[0m\u001b[0;34m.\u001b[0m\u001b[0mrelplot\u001b[0m\u001b[0;34m(\u001b[0m\u001b[0mdata\u001b[0m\u001b[0;34m=\u001b[0m\u001b[0mgrouped\u001b[0m\u001b[0;34m,\u001b[0m \u001b[0mx\u001b[0m\u001b[0;34m=\u001b[0m\u001b[0;34m'months_diff'\u001b[0m\u001b[0;34m,\u001b[0m \u001b[0my\u001b[0m\u001b[0;34m=\u001b[0m\u001b[0;34m'Cases'\u001b[0m\u001b[0;34m,\u001b[0m \u001b[0mhue\u001b[0m\u001b[0;34m=\u001b[0m\u001b[0;34m'Country'\u001b[0m\u001b[0;34m)\u001b[0m\u001b[0;34m\u001b[0m\u001b[0;34m\u001b[0m\u001b[0m\n\u001b[0;32m----> 3\u001b[0;31m \u001b[0mplt\u001b[0m\u001b[0;34m.\u001b[0m\u001b[0mshow\u001b[0m\u001b[0;34m(\u001b[0m\u001b[0;34m)\u001b[0m\u001b[0;34m\u001b[0m\u001b[0;34m\u001b[0m\u001b[0m\n\u001b[0m",
      "\u001b[0;31mNameError\u001b[0m: name 'plt' is not defined"
     ]
    },
    {
     "data": {
      "image/png": "[encoded data removed]",
      "text/plain": [
       "<Figure size 463.625x360 with 1 Axes>"
      ]
     },
     "metadata": {
      "needs_background": "light"
     },
     "output_type": "display_data"
    }
   ],
   "source": [
    "import seaborn as sns\n",
    "sns.relplot(data=grouped, x='months_diff', y='Cases', hue='Country')\n",
    "plt.show()"
   ]
  },
  {
   "cell_type": "code",
   "execution_count": 20,
   "id": "14a65c2b-b7e0-4928-8db1-051757c87cc1",
   "metadata": {},
   "outputs": [
    {
     "data": {
      "text/plain": [
       "9     8\n",
       "1     8\n",
       "16    8\n",
       "15    8\n",
       "14    8\n",
       "13    8\n",
       "12    8\n",
       "11    8\n",
       "10    8\n",
       "18    8\n",
       "8     8\n",
       "7     8\n",
       "6     8\n",
       "5     8\n",
       "4     8\n",
       "3     8\n",
       "2     8\n",
       "0     5\n",
       "Name: months_diff, dtype: int64"
      ]
     },
     "execution_count": 20,
     "metadata": {},
     "output_type": "execute_result"
    }
   ],
   "source": [
    "grouped.months_diff.value_counts()"
   ]
  },
  {
   "cell_type": "code",
   "execution_count": 21,
   "id": "ada537db-c207-4be8-84c7-0dcb3587f6ae",
   "metadata": {},
   "outputs": [
    {
     "ename": "NameError",
     "evalue": "name 'plt' is not defined",
     "output_type": "error",
     "traceback": [
      "\u001b[0;31m---------------------------------------------------------------------------\u001b[0m",
      "\u001b[0;31mNameError\u001b[0m                                 Traceback (most recent call last)",
      "\u001b[0;32m/tmp/ipykernel_1422/3686234573.py\u001b[0m in \u001b[0;36m<module>\u001b[0;34m\u001b[0m\n\u001b[1;32m      1\u001b[0m \u001b[0mgrouped\u001b[0m \u001b[0;34m=\u001b[0m \u001b[0mgrouped\u001b[0m\u001b[0;34m[\u001b[0m\u001b[0mgrouped\u001b[0m\u001b[0;34m[\u001b[0m\u001b[0;34m'months_diff'\u001b[0m\u001b[0;34m]\u001b[0m\u001b[0;34m!=\u001b[0m \u001b[0;36m0\u001b[0m\u001b[0;34m]\u001b[0m\u001b[0;34m\u001b[0m\u001b[0;34m\u001b[0m\u001b[0m\n\u001b[1;32m      2\u001b[0m \u001b[0msns\u001b[0m\u001b[0;34m.\u001b[0m\u001b[0mrelplot\u001b[0m\u001b[0;34m(\u001b[0m\u001b[0mdata\u001b[0m\u001b[0;34m=\u001b[0m\u001b[0mgrouped\u001b[0m\u001b[0;34m,\u001b[0m \u001b[0mx\u001b[0m\u001b[0;34m=\u001b[0m\u001b[0;34m'months_diff'\u001b[0m\u001b[0;34m,\u001b[0m \u001b[0my\u001b[0m\u001b[0;34m=\u001b[0m\u001b[0;34m'Cases'\u001b[0m\u001b[0;34m,\u001b[0m \u001b[0mhue\u001b[0m\u001b[0;34m=\u001b[0m\u001b[0;34m'Country'\u001b[0m\u001b[0;34m)\u001b[0m\u001b[0;34m\u001b[0m\u001b[0;34m\u001b[0m\u001b[0m\n\u001b[0;32m----> 3\u001b[0;31m \u001b[0mplt\u001b[0m\u001b[0;34m.\u001b[0m\u001b[0mshow\u001b[0m\u001b[0;34m(\u001b[0m\u001b[0;34m)\u001b[0m\u001b[0;34m\u001b[0m\u001b[0;34m\u001b[0m\u001b[0m\n\u001b[0m",
      "\u001b[0;31mNameError\u001b[0m: name 'plt' is not defined"
     ]
    },
    {
     "data": {
      "image/png": "[encoded data removed]",
      "text/plain": [
       "<Figure size 463.625x360 with 1 Axes>"
      ]
     },
     "metadata": {
      "needs_background": "light"
     },
     "output_type": "display_data"
    }
   ],
   "source": [
    "grouped = grouped[grouped['months_diff']!= 0]\n",
    "sns.relplot(data=grouped, x='months_diff', y='Cases', hue='Country')\n",
    "plt.show()"
   ]
  },
  {
   "cell_type": "code",
   "execution_count": 22,
   "id": "8a352613-c257-47a3-af3b-7f45adb5367f",
   "metadata": {},
   "outputs": [],
   "source": [
    "grouped.to_csv('ebola_population_aggregate_same_span.csv', index = False)"
   ]
  },
  {
   "cell_type": "code",
   "execution_count": 25,
   "id": "5ccd14e5-65ca-4d72-a759-03292c202c35",
   "metadata": {},
   "outputs": [
    {
     "name": "stdout",
     "output_type": "stream",
     "text": [
      "<class 'pandas.core.frame.DataFrame'>\n",
      "RangeIndex: 165 entries, 0 to 164\n",
      "Data columns (total 4 columns):\n",
      " #   Column       Non-Null Count  Dtype  \n",
      "---  ------       --------------  -----  \n",
      " 0   Country      165 non-null    object \n",
      " 1   months_diff  165 non-null    int64  \n",
      " 2   Cases        165 non-null    float64\n",
      " 3   Pop_den      165 non-null    float64\n",
      "dtypes: float64(2), int64(1), object(1)\n",
      "memory usage: 5.3+ KB\n"
     ]
    }
   ],
   "source": [
    "grouped.info()"
   ]
  },
  {
   "cell_type": "code",
   "execution_count": null,
   "id": "7e68184f-b8f3-4241-bce5-bfdd3e147812",
   "metadata": {},
   "outputs": [],
   "source": [
    "gr"
   ]
  },
  {
   "cell_type": "code",
   "execution_count": 23,
   "id": "086c4712-2e9f-419d-96d9-317ada44aac8",
   "metadata": {},
   "outputs": [],
   "source": [
    "grouped.to_csv('ebola_population_aggregate.csv', index=False)"
   ]
  },
  {
   "cell_type": "code",
   "execution_count": null,
   "id": "bf686e09-a84c-4400-b30e-abd1c19c53c0",
   "metadata": {},
   "outputs": [],
   "source": []
  }
 ],
 "metadata": {
  "kernelspec": {
   "name": "python3"
  },
  "language_info": {
   "codemirror_mode": {
    "name": "ipython",
    "version": 3
   },
   "file_extension": ".py",
   "mimetype": "text/x-python",
   "name": "python",
   "nbconvert_exporter": "python",
   "pygments_lexer": "ipython3",
   "version": "3.9.7"
  }
 },
 "nbformat": 4,
 "nbformat_minor": 5
}
